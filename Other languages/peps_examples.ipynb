{
 "cells": [
  {
   "cell_type": "markdown",
   "id": "4e40a849-db74-44e8-a438-a42011d56dfa",
   "metadata": {},
   "source": [
    "# PEPSKit"
   ]
  },
  {
   "cell_type": "code",
   "execution_count": 5,
   "id": "cd18b34c-0606-4ffd-8efe-9c6596421a92",
   "metadata": {},
   "outputs": [],
   "source": [
    "using LinearAlgebra\n",
    "using Random\n",
    "using TensorKit\n",
    "using PEPSKit\n",
    "using KrylovKit\n",
    "using OptimKit\n",
    "using MPSKit"
   ]
  },
  {
   "cell_type": "markdown",
   "id": "c02d2a13-69f3-4204-837f-2a70e9331c3b",
   "metadata": {},
   "source": [
    "## 1. Basic example \n",
    "\n",
    "Simple PEPS optimization example for the spin-$\\frac{1}{2}$ square lattice Heisenberg model with\n",
    "\n",
    "$$\n",
    "H = \\sum_{\\langle i,j \\rangle} \\left(J_x S^x_i S^x_j + J_y S^y_i S^y_j + J_z S^z_i S^z_j\\right)\n",
    "$$"
   ]
  },
  {
   "cell_type": "markdown",
   "id": "80b19d10-c691-49a7-8664-9a1ad11ab8dd",
   "metadata": {},
   "source": [
    "and where we choose $J_x=J_z=-1$ and $J_y=1$. This Hamiltonian can be constructed as a `LocalOperator` in PEPSKit via:"
   ]
  },
  {
   "cell_type": "code",
   "execution_count": 6,
   "id": "29cf9644-ee36-4793-a503-e08a25323186",
   "metadata": {},
   "outputs": [
    {
     "data": {
      "text/plain": [
       "LocalOperator{Tuple{Pair{Tuple{CartesianIndex{2}, CartesianIndex{2}}, TrivialTensorMap{ComplexSpace, 2, 2, Matrix{ComplexF64}}}, Pair{Tuple{CartesianIndex{2}, CartesianIndex{2}}, TrivialTensorMap{ComplexSpace, 2, 2, Matrix{ComplexF64}}}}, ComplexSpace}(ComplexSpace[ℂ^2;;], ((CartesianIndex(1, 1), CartesianIndex(2, 1)) => TensorMap((ℂ^2 ⊗ ℂ^2) ← (ℂ^2 ⊗ ℂ^2)):\n",
       "[:, :, 1, 1] =\n",
       " -0.25 + 0.0im   0.0 + 0.0im\n",
       "   0.0 + 0.0im  -0.5 + 0.0im\n",
       "\n",
       "[:, :, 2, 1] =\n",
       "  0.0 + 0.0im  0.0 + 0.0im\n",
       " 0.25 + 0.0im  0.0 + 0.0im\n",
       "\n",
       "[:, :, 1, 2] =\n",
       " 0.0 + 0.0im  0.25 + 0.0im\n",
       " 0.0 + 0.0im   0.0 + 0.0im\n",
       "\n",
       "[:, :, 2, 2] =\n",
       " -0.5 + 0.0im    0.0 + 0.0im\n",
       "  0.0 + 0.0im  -0.25 + 0.0im\n",
       ", (CartesianIndex(1, 1), CartesianIndex(1, 2)) => TensorMap((ℂ^2 ⊗ ℂ^2) ← (ℂ^2 ⊗ ℂ^2)):\n",
       "[:, :, 1, 1] =\n",
       " -0.25 + 0.0im   0.0 + 0.0im\n",
       "   0.0 + 0.0im  -0.5 + 0.0im\n",
       "\n",
       "[:, :, 2, 1] =\n",
       "  0.0 + 0.0im  0.0 + 0.0im\n",
       " 0.25 + 0.0im  0.0 + 0.0im\n",
       "\n",
       "[:, :, 1, 2] =\n",
       " 0.0 + 0.0im  0.25 + 0.0im\n",
       " 0.0 + 0.0im   0.0 + 0.0im\n",
       "\n",
       "[:, :, 2, 2] =\n",
       " -0.5 + 0.0im    0.0 + 0.0im\n",
       "  0.0 + 0.0im  -0.25 + 0.0im\n",
       "))"
      ]
     },
     "metadata": {},
     "output_type": "display_data"
    }
   ],
   "source": [
    "H = square_lattice_heisenberg(Jx = -1, Jy = 1, Jz = -1)"
   ]
  },
  {
   "cell_type": "markdown",
   "id": "4cdb878f-ab63-4921-8d26-0fa3a719e3cf",
   "metadata": {},
   "source": [
    "This is a convenient way to store the nearest-neighbour interactions that are themselves stored as `TensorMap`s with structure `(ℂ^2 ⊗ ℂ^2) ← (ℂ^2 ⊗ ℂ^2)`. Indeed, the physical space is the two-dimensional `ℂ^2`. For the PEPS Ansatz we typically choose a higher dimension for the virtual spaces but for the sake of simplicity we also pick `χbond=2` here so that"
   ]
  },
  {
   "cell_type": "code",
   "execution_count": 89,
   "id": "33fbecbe-3e4b-4c44-ade6-d5f2e9888323",
   "metadata": {},
   "outputs": [
    {
     "data": {
      "text/plain": [
       "InfinitePEPS{TrivialTensorMap{ComplexSpace, 1, 4, Matrix{ComplexF64}}}(TrivialTensorMap{ComplexSpace, 1, 4, Matrix{ComplexF64}}[TensorMap(ℂ^2 ← (ℂ^2 ⊗ ℂ^2 ⊗ (ℂ^2)' ⊗ (ℂ^2)')):\n",
       "[:, :, 1, 1, 1] =\n",
       "  0.40716886290107507 + 0.5513939535479134im  …  -0.5124646882014363 + 0.4073409890127446im\n",
       " 0.018434572495667094 - 0.3854096346436205im      1.0483755390301144 + 0.9116887232990566im\n",
       "\n",
       "[:, :, 2, 1, 1] =\n",
       "  -0.7906172108704128 + 0.4586324308021981im  …  0.31454771281903543 + 0.016055169067413326im\n",
       " -0.17746693324912657 + 0.7052910912220652im      0.6757320297218173 + 0.5641681643777072im\n",
       "\n",
       "[:, :, 1, 2, 1] =\n",
       " -0.015725113902318708 - 0.33214456347145727im  …  -0.31738914776303906 + 0.42521667959690623im\n",
       "   -1.0306177831069063 - 0.4838625762677157im      0.012572493385981537 - 1.4065039143918943im\n",
       "\n",
       "[:, :, 2, 2, 1] =\n",
       "  0.10393519087863327 - 0.9673839431809592im  …    0.3717908137037027 + 0.21934685818702798im\n",
       " -0.19670826490575757 + 1.0010041118422948im     -0.04754230579919925 + 0.28599434945998753im\n",
       "\n",
       "[:, :, 1, 1, 2] =\n",
       " -0.1064899191987594 - 0.8553334554194495im  …  -0.13068210465233696 - 0.2551940977338465im\n",
       "    1.31776973378679 + 0.4677875032524286im      -0.9002913692509137 + 0.3922815901262126im\n",
       "\n",
       "[:, :, 2, 1, 2] =\n",
       " -0.4565749921238036 - 1.2077620353372809im    …  0.1950662563234557 + 0.29070183045187153im\n",
       " 0.03933136984013373 - 0.024926928256106956im     0.9552590394961676 + 0.3510480300454592im\n",
       "\n",
       "[:, :, 1, 2, 2] =\n",
       " -0.04494677438339633 + 0.28062876161461914im  …  -0.07870108617551701 + 1.2425988184763022im\n",
       " -0.17449468682376476 - 0.5313807247516632im         0.808458828896776 + 0.045071526742854716im\n",
       "\n",
       "[:, :, 2, 2, 2] =\n",
       "  0.13715778653063385 + 1.1539651746021529im  …  -1.5613005625151257 + 0.8512807521324598im\n",
       " -0.10495038660594588 + 0.8159592354970034im      0.6280190859245973 - 0.3108339463965992im\n",
       ";;])"
      ]
     },
     "execution_count": 89,
     "metadata": {},
     "output_type": "execute_result"
    }
   ],
   "source": [
    "χbond = 2\n",
    "Random.seed!(91283219347)\n",
    "psi_init = InfinitePEPS(2, χbond)"
   ]
  },
  {
   "cell_type": "markdown",
   "id": "98e386fe-d6d4-4d3d-a20c-7a458712a495",
   "metadata": {},
   "source": [
    "For this random initial PEPS, we first initialize a random CTMRG environment based on the size `χenv = 16` of the corners (and thus chosen equal for all C's)"
   ]
  },
  {
   "cell_type": "code",
   "execution_count": 90,
   "id": "343bd1f2-3390-489a-91b9-a2d689b0c7d5",
   "metadata": {},
   "outputs": [],
   "source": [
    "χenv = 16\n",
    "env0 = CTMRGEnv(psi_init, ComplexSpace(χenv));"
   ]
  },
  {
   "cell_type": "markdown",
   "id": "f05fd2ff-468b-4388-b239-d47f947d8a83",
   "metadata": {},
   "source": [
    "We then optimize this CTMRG environment for the initial PEPS via the CTMRG algorithm with a certain hyperparameter choice and using the `leading_boundary` function:"
   ]
  },
  {
   "cell_type": "code",
   "execution_count": 91,
   "id": "701680ce-7113-480e-a463-8de0bb4bd08e",
   "metadata": {},
   "outputs": [
    {
     "name": "stderr",
     "output_type": "stream",
     "text": [
      "\u001b[36m\u001b[1m[ \u001b[22m\u001b[39m\u001b[36m\u001b[1mInfo: \u001b[22m\u001b[39mCTMRG init:\tobj = -1.789538485284e+00 -4.900827952699e+00im\terr = 1.0000e+00\n",
      "\u001b[36m\u001b[1m[ \u001b[22m\u001b[39m\u001b[36m\u001b[1mInfo: \u001b[22m\u001b[39mCTMRG conv 82:\tobj = +7.625582516626e+00\terr = 6.0390645562e-11\ttime = 0.94 sec\n"
     ]
    }
   ],
   "source": [
    "ctm_alg = CTMRG(;\n",
    "    tol=1e-10,\n",
    "    miniter=4,\n",
    "    maxiter=100,\n",
    "    verbosity=2,\n",
    "    svd_alg=SVDAdjoint(; fwd_alg=TensorKit.SVD(), rrule_alg=GMRES(; tol=1e-10)),\n",
    "    ctmrgscheme=:simultaneous,\n",
    ")\n",
    "env_init = leading_boundary(env0, psi_init, ctm_alg);"
   ]
  },
  {
   "cell_type": "markdown",
   "id": "f6c1f6fe-2700-44d4-93e7-739ca4a31ccf",
   "metadata": {},
   "source": [
    "As a result the energy density of our initial state is given by"
   ]
  },
  {
   "cell_type": "code",
   "execution_count": 92,
   "id": "3535c731-a639-4622-9345-a2819bf87174",
   "metadata": {},
   "outputs": [
    {
     "data": {
      "text/plain": [
       "-0.2346947368092478 + 2.006293619093191e-11im"
      ]
     },
     "execution_count": 92,
     "metadata": {},
     "output_type": "execute_result"
    }
   ],
   "source": [
    "e_init = expectation_value(psi_init, H, env_init)"
   ]
  },
  {
   "cell_type": "markdown",
   "id": "ad6d1eca-08aa-4cbd-bec7-c7d4039650ed",
   "metadata": {},
   "source": [
    "which is clearly higher than the exact minimum $E_{ex} = -0.6694421$. Applying automatic differentiation (AD) to tis CTMRG based energy evaluation, we obtain a gradient of the energy w.r.t. the PEPS tensor entries and combining both we can perform a gradient descent towards the variational minimum using the `fixedpoint` function"
   ]
  },
  {
   "cell_type": "code",
   "execution_count": 93,
   "id": "4dbaf9f8-9aaf-4ed9-8a79-605b2530448a",
   "metadata": {},
   "outputs": [
    {
     "name": "stderr",
     "output_type": "stream",
     "text": [
      "\u001b[36m\u001b[1m[ \u001b[22m\u001b[39m\u001b[36m\u001b[1mInfo: \u001b[22m\u001b[39mCTMRG init:\tobj = +7.625582516626e+00\terr = 1.0000e+00\n",
      "\u001b[36m\u001b[1m[ \u001b[22m\u001b[39m\u001b[36m\u001b[1mInfo: \u001b[22m\u001b[39mCTMRG conv 1:\tobj = +7.625582516626e+00\terr = 2.7488022284e-11\ttime = 0.01 sec\n",
      "\u001b[36m\u001b[1m[ \u001b[22m\u001b[39m\u001b[36m\u001b[1mInfo: \u001b[22m\u001b[39mLBFGS: initializing with f = -0.234694736814, ‖∇f‖ = 9.8256e-01\n",
      "\u001b[36m\u001b[1m[ \u001b[22m\u001b[39m\u001b[36m\u001b[1mInfo: \u001b[22m\u001b[39mCTMRG init:\tobj = +1.110332291603e+01 -8.841378857663e-11im\terr = 1.0000e+00\n",
      "\u001b[36m\u001b[1m[ \u001b[22m\u001b[39m\u001b[36m\u001b[1mInfo: \u001b[22m\u001b[39mCTMRG conv 16:\tobj = +1.221202493388e+01\terr = 4.1788461434e-11\ttime = 0.15 sec\n",
      "\u001b[36m\u001b[1m[ \u001b[22m\u001b[39m\u001b[36m\u001b[1mInfo: \u001b[22m\u001b[39mLBFGS: iter    1: f = -0.476599368773, ‖∇f‖ = 2.2341e-01, α = 1.00e+00, m = 0, nfg = 1\n",
      "\u001b[36m\u001b[1m[ \u001b[22m\u001b[39m\u001b[36m\u001b[1mInfo: \u001b[22m\u001b[39mCTMRG init:\tobj = +1.250859928053e+01\terr = 1.0000e+00\n",
      "\u001b[36m\u001b[1m[ \u001b[22m\u001b[39m\u001b[36m\u001b[1mInfo: \u001b[22m\u001b[39mCTMRG conv 14:\tobj = +1.251193059064e+01\terr = 3.7822657201e-11\ttime = 0.16 sec\n",
      "\u001b[36m\u001b[1m[ \u001b[22m\u001b[39m\u001b[36m\u001b[1mInfo: \u001b[22m\u001b[39mLBFGS: iter    2: f = -0.512844811020, ‖∇f‖ = 1.1340e-01, α = 1.00e+00, m = 1, nfg = 1\n",
      "\u001b[36m\u001b[1m[ \u001b[22m\u001b[39m\u001b[36m\u001b[1mInfo: \u001b[22m\u001b[39mCTMRG init:\tobj = +1.268953180948e+01\terr = 1.0000e+00\n",
      "\u001b[36m\u001b[1m[ \u001b[22m\u001b[39m\u001b[36m\u001b[1mInfo: \u001b[22m\u001b[39mCTMRG conv 14:\tobj = +1.269154795369e+01\terr = 6.4148855847e-11\ttime = 0.20 sec\n",
      "\u001b[36m\u001b[1m[ \u001b[22m\u001b[39m\u001b[36m\u001b[1mInfo: \u001b[22m\u001b[39mLBFGS: iter    3: f = -0.537558530180, ‖∇f‖ = 9.3445e-02, α = 1.00e+00, m = 2, nfg = 1\n",
      "\u001b[36m\u001b[1m[ \u001b[22m\u001b[39m\u001b[36m\u001b[1mInfo: \u001b[22m\u001b[39mCTMRG init:\tobj = +1.279729267360e+01\terr = 1.0000e+00\n",
      "\u001b[36m\u001b[1m[ \u001b[22m\u001b[39m\u001b[36m\u001b[1mInfo: \u001b[22m\u001b[39mCTMRG conv 14:\tobj = +1.282336724139e+01\terr = 5.6296891528e-11\ttime = 0.21 sec\n",
      "\u001b[36m\u001b[1m[ \u001b[22m\u001b[39m\u001b[36m\u001b[1mInfo: \u001b[22m\u001b[39mLBFGS: iter    4: f = -0.573739810052, ‖∇f‖ = 1.2112e-01, α = 1.00e+00, m = 3, nfg = 1\n",
      "\u001b[36m\u001b[1m[ \u001b[22m\u001b[39m\u001b[36m\u001b[1mInfo: \u001b[22m\u001b[39mCTMRG init:\tobj = +1.312923286658e+01\terr = 1.0000e+00\n",
      "\u001b[36m\u001b[1m[ \u001b[22m\u001b[39m\u001b[36m\u001b[1mInfo: \u001b[22m\u001b[39mCTMRG conv 19:\tobj = +1.359071180098e+01\terr = 3.0793698172e-11\ttime = 0.23 sec\n",
      "\u001b[36m\u001b[1m[ \u001b[22m\u001b[39m\u001b[36m\u001b[1mInfo: \u001b[22m\u001b[39mLBFGS: iter    5: f = -0.593183717092, ‖∇f‖ = 1.3284e-01, α = 1.00e+00, m = 4, nfg = 1\n",
      "\u001b[36m\u001b[1m[ \u001b[22m\u001b[39m\u001b[36m\u001b[1mInfo: \u001b[22m\u001b[39mCTMRG init:\tobj = +1.470263518859e+01\terr = 1.0000e+00\n",
      "\u001b[36m\u001b[1m[ \u001b[22m\u001b[39m\u001b[36m\u001b[1mInfo: \u001b[22m\u001b[39mCTMRG conv 16:\tobj = +1.474344668446e+01\terr = 3.2836058013e-11\ttime = 0.17 sec\n",
      "\u001b[36m\u001b[1m[ \u001b[22m\u001b[39m\u001b[36m\u001b[1mInfo: \u001b[22m\u001b[39mLBFGS: iter    6: f = -0.620362346966, ‖∇f‖ = 4.7975e-02, α = 1.00e+00, m = 4, nfg = 1\n",
      "\u001b[36m\u001b[1m[ \u001b[22m\u001b[39m\u001b[36m\u001b[1mInfo: \u001b[22m\u001b[39mCTMRG init:\tobj = +1.580433957580e+01\terr = 1.0000e+00\n",
      "\u001b[36m\u001b[1m[ \u001b[22m\u001b[39m\u001b[36m\u001b[1mInfo: \u001b[22m\u001b[39mCTMRG conv 17:\tobj = +1.580545378529e+01\terr = 2.6834934517e-11\ttime = 0.17 sec\n",
      "\u001b[36m\u001b[1m[ \u001b[22m\u001b[39m\u001b[36m\u001b[1mInfo: \u001b[22m\u001b[39mLBFGS: iter    7: f = -0.630079493943, ‖∇f‖ = 3.1566e-02, α = 1.00e+00, m = 4, nfg = 1\n",
      "\u001b[36m\u001b[1m[ \u001b[22m\u001b[39m\u001b[36m\u001b[1mInfo: \u001b[22m\u001b[39mCTMRG init:\tobj = +1.854542630696e+01\terr = 1.0000e+00\n",
      "\u001b[36m\u001b[1m[ \u001b[22m\u001b[39m\u001b[36m\u001b[1mInfo: \u001b[22m\u001b[39mCTMRG conv 17:\tobj = +1.856233130868e+01\terr = 5.0256057411e-11\ttime = 0.17 sec\n",
      "\u001b[36m\u001b[1m[ \u001b[22m\u001b[39m\u001b[36m\u001b[1mInfo: \u001b[22m\u001b[39mLBFGS: iter    8: f = -0.644168443787, ‖∇f‖ = 2.1281e-02, α = 1.00e+00, m = 4, nfg = 1\n",
      "\u001b[36m\u001b[1m[ \u001b[22m\u001b[39m\u001b[36m\u001b[1mInfo: \u001b[22m\u001b[39mCTMRG init:\tobj = +2.212823955515e+01\terr = 1.0000e+00\n",
      "\u001b[36m\u001b[1m[ \u001b[22m\u001b[39m\u001b[36m\u001b[1mInfo: \u001b[22m\u001b[39mCTMRG conv 16:\tobj = +2.222883357408e+01\terr = 4.6090749750e-11\ttime = 0.24 sec\n",
      "\u001b[36m\u001b[1m[ \u001b[22m\u001b[39m\u001b[36m\u001b[1mInfo: \u001b[22m\u001b[39mLBFGS: iter    9: f = -0.651214607263, ‖∇f‖ = 3.7258e-02, α = 1.00e+00, m = 4, nfg = 1\n",
      "\u001b[36m\u001b[1m[ \u001b[22m\u001b[39m\u001b[36m\u001b[1mInfo: \u001b[22m\u001b[39mCTMRG init:\tobj = +2.476377804209e+01\terr = 1.0000e+00\n",
      "\u001b[36m\u001b[1m[ \u001b[22m\u001b[39m\u001b[36m\u001b[1mInfo: \u001b[22m\u001b[39mCTMRG conv 15:\tobj = +2.476750648386e+01\terr = 5.1600532812e-11\ttime = 0.15 sec\n",
      "\u001b[36m\u001b[1m[ \u001b[22m\u001b[39m\u001b[36m\u001b[1mInfo: \u001b[22m\u001b[39mLBFGS: iter   10: f = -0.654386413987, ‖∇f‖ = 2.0908e-02, α = 1.00e+00, m = 4, nfg = 1\n",
      "\u001b[36m\u001b[1m[ \u001b[22m\u001b[39m\u001b[36m\u001b[1mInfo: \u001b[22m\u001b[39mCTMRG init:\tobj = +2.461092561412e+01\terr = 1.0000e+00\n",
      "\u001b[36m\u001b[1m[ \u001b[22m\u001b[39m\u001b[36m\u001b[1mInfo: \u001b[22m\u001b[39mCTMRG conv 15:\tobj = +2.461674973911e+01\terr = 8.0553900284e-11\ttime = 0.19 sec\n",
      "\u001b[36m\u001b[1m[ \u001b[22m\u001b[39m\u001b[36m\u001b[1mInfo: \u001b[22m\u001b[39mLBFGS: iter   11: f = -0.655576672105, ‖∇f‖ = 8.7872e-03, α = 1.00e+00, m = 4, nfg = 1\n",
      "\u001b[36m\u001b[1m[ \u001b[22m\u001b[39m\u001b[36m\u001b[1mInfo: \u001b[22m\u001b[39mCTMRG init:\tobj = +2.476356066336e+01\terr = 1.0000e+00\n",
      "\u001b[36m\u001b[1m[ \u001b[22m\u001b[39m\u001b[36m\u001b[1mInfo: \u001b[22m\u001b[39mCTMRG conv 15:\tobj = +2.476615843729e+01\terr = 6.4021451219e-11\ttime = 0.15 sec\n",
      "\u001b[36m\u001b[1m[ \u001b[22m\u001b[39m\u001b[36m\u001b[1mInfo: \u001b[22m\u001b[39mLBFGS: iter   12: f = -0.656090089050, ‖∇f‖ = 6.4281e-03, α = 1.00e+00, m = 4, nfg = 1\n",
      "\u001b[36m\u001b[1m[ \u001b[22m\u001b[39m\u001b[36m\u001b[1mInfo: \u001b[22m\u001b[39mCTMRG init:\tobj = +2.547356366426e+01\terr = 1.0000e+00\n",
      "\u001b[36m\u001b[1m[ \u001b[22m\u001b[39m\u001b[36m\u001b[1mInfo: \u001b[22m\u001b[39mCTMRG conv 16:\tobj = +2.547575907267e+01\terr = 2.3810261944e-11\ttime = 0.16 sec\n",
      "\u001b[36m\u001b[1m[ \u001b[22m\u001b[39m\u001b[36m\u001b[1mInfo: \u001b[22m\u001b[39mLBFGS: iter   13: f = -0.656820869626, ‖∇f‖ = 6.9344e-03, α = 1.00e+00, m = 4, nfg = 1\n",
      "\u001b[36m\u001b[1m[ \u001b[22m\u001b[39m\u001b[36m\u001b[1mInfo: \u001b[22m\u001b[39mCTMRG init:\tobj = +2.697108896485e+01\terr = 1.0000e+00\n",
      "\u001b[36m\u001b[1m[ \u001b[22m\u001b[39m\u001b[36m\u001b[1mInfo: \u001b[22m\u001b[39mCTMRG conv 15:\tobj = +2.696852674890e+01\terr = 7.8097707540e-11\ttime = 0.15 sec\n",
      "\u001b[36m\u001b[1m[ \u001b[22m\u001b[39m\u001b[36m\u001b[1mInfo: \u001b[22m\u001b[39mLBFGS: iter   14: f = -0.657906534152, ‖∇f‖ = 7.3205e-03, α = 1.00e+00, m = 4, nfg = 1\n",
      "\u001b[36m\u001b[1m[ \u001b[22m\u001b[39m\u001b[36m\u001b[1mInfo: \u001b[22m\u001b[39mCTMRG init:\tobj = +2.924346229190e+01\terr = 1.0000e+00\n",
      "\u001b[36m\u001b[1m[ \u001b[22m\u001b[39m\u001b[36m\u001b[1mInfo: \u001b[22m\u001b[39mCTMRG conv 16:\tobj = +2.924917105615e+01\terr = 7.6901950160e-11\ttime = 0.18 sec\n",
      "\u001b[36m\u001b[1m[ \u001b[22m\u001b[39m\u001b[36m\u001b[1mInfo: \u001b[22m\u001b[39mLBFGS: iter   15: f = -0.658967073959, ‖∇f‖ = 7.0155e-03, α = 1.00e+00, m = 4, nfg = 1\n",
      "\u001b[36m\u001b[1m[ \u001b[22m\u001b[39m\u001b[36m\u001b[1mInfo: \u001b[22m\u001b[39mCTMRG init:\tobj = +3.158933279296e+01\terr = 1.0000e+00\n",
      "\u001b[36m\u001b[1m[ \u001b[22m\u001b[39m\u001b[36m\u001b[1mInfo: \u001b[22m\u001b[39mCTMRG conv 16:\tobj = +3.159471987966e+01\terr = 9.3648490731e-11\ttime = 0.17 sec\n",
      "\u001b[36m\u001b[1m[ \u001b[22m\u001b[39m\u001b[36m\u001b[1mInfo: \u001b[22m\u001b[39mLBFGS: iter   16: f = -0.659573255855, ‖∇f‖ = 8.4362e-03, α = 1.00e+00, m = 4, nfg = 1\n",
      "\u001b[36m\u001b[1m[ \u001b[22m\u001b[39m\u001b[36m\u001b[1mInfo: \u001b[22m\u001b[39mCTMRG init:\tobj = +3.197581472271e+01\terr = 1.0000e+00\n",
      "\u001b[36m\u001b[1m[ \u001b[22m\u001b[39m\u001b[36m\u001b[1mInfo: \u001b[22m\u001b[39mCTMRG conv 16:\tobj = +3.197815663021e+01\terr = 5.6855266794e-11\ttime = 0.16 sec\n",
      "\u001b[36m\u001b[1m[ \u001b[22m\u001b[39m\u001b[36m\u001b[1mInfo: \u001b[22m\u001b[39mLBFGS: iter   17: f = -0.659969117519, ‖∇f‖ = 3.2259e-03, α = 1.00e+00, m = 4, nfg = 1\n",
      "\u001b[36m\u001b[1m[ \u001b[22m\u001b[39m\u001b[36m\u001b[1mInfo: \u001b[22m\u001b[39mCTMRG init:\tobj = +3.204838481965e+01\terr = 1.0000e+00\n",
      "\u001b[36m\u001b[1m[ \u001b[22m\u001b[39m\u001b[36m\u001b[1mInfo: \u001b[22m\u001b[39mCTMRG conv 14:\tobj = +3.204820981569e+01\terr = 4.7850753632e-11\ttime = 0.16 sec\n",
      "\u001b[36m\u001b[1m[ \u001b[22m\u001b[39m\u001b[36m\u001b[1mInfo: \u001b[22m\u001b[39mLBFGS: iter   18: f = -0.660098135169, ‖∇f‖ = 2.8595e-03, α = 1.00e+00, m = 4, nfg = 1\n",
      "\u001b[36m\u001b[1m[ \u001b[22m\u001b[39m\u001b[36m\u001b[1mInfo: \u001b[22m\u001b[39mCTMRG init:\tobj = +3.246606118585e+01\terr = 1.0000e+00\n",
      "\u001b[36m\u001b[1m[ \u001b[22m\u001b[39m\u001b[36m\u001b[1mInfo: \u001b[22m\u001b[39mCTMRG conv 16:\tobj = +3.246953377818e+01\terr = 6.9015545412e-11\ttime = 0.23 sec\n",
      "\u001b[36m\u001b[1m[ \u001b[22m\u001b[39m\u001b[36m\u001b[1mInfo: \u001b[22m\u001b[39mLBFGS: iter   19: f = -0.660294351946, ‖∇f‖ = 3.3857e-03, α = 1.00e+00, m = 4, nfg = 1\n",
      "\u001b[36m\u001b[1m[ \u001b[22m\u001b[39m\u001b[36m\u001b[1mInfo: \u001b[22m\u001b[39mCTMRG init:\tobj = +3.275238430299e+01\terr = 1.0000e+00\n",
      "\u001b[36m\u001b[1m[ \u001b[22m\u001b[39m\u001b[36m\u001b[1mInfo: \u001b[22m\u001b[39mCTMRG conv 16:\tobj = +3.275436776590e+01\terr = 3.1426895448e-11\ttime = 0.25 sec\n",
      "\u001b[36m\u001b[1m[ \u001b[22m\u001b[39m\u001b[36m\u001b[1mInfo: \u001b[22m\u001b[39mLBFGS: iter   20: f = -0.660417864543, ‖∇f‖ = 1.6953e-03, α = 1.00e+00, m = 4, nfg = 1\n",
      "\u001b[36m\u001b[1m[ \u001b[22m\u001b[39m\u001b[36m\u001b[1mInfo: \u001b[22m\u001b[39mCTMRG init:\tobj = +3.295749024736e+01\terr = 1.0000e+00\n",
      "\u001b[36m\u001b[1m[ \u001b[22m\u001b[39m\u001b[36m\u001b[1mInfo: \u001b[22m\u001b[39mCTMRG conv 14:\tobj = +3.295765227252e+01\terr = 5.4951706199e-11\ttime = 0.16 sec\n",
      "\u001b[36m\u001b[1m[ \u001b[22m\u001b[39m\u001b[36m\u001b[1mInfo: \u001b[22m\u001b[39mLBFGS: iter   21: f = -0.660483501092, ‖∇f‖ = 1.2681e-03, α = 1.00e+00, m = 4, nfg = 1\n",
      "\u001b[36m\u001b[1m[ \u001b[22m\u001b[39m\u001b[36m\u001b[1mInfo: \u001b[22m\u001b[39mCTMRG init:\tobj = +3.330382765372e+01\terr = 1.0000e+00\n",
      "\u001b[36m\u001b[1m[ \u001b[22m\u001b[39m\u001b[36m\u001b[1mInfo: \u001b[22m\u001b[39mCTMRG conv 15:\tobj = +3.330379083444e+01\terr = 2.8104154660e-11\ttime = 0.25 sec\n",
      "\u001b[36m\u001b[1m[ \u001b[22m\u001b[39m\u001b[36m\u001b[1mInfo: \u001b[22m\u001b[39mLBFGS: iter   22: f = -0.660560166153, ‖∇f‖ = 1.4564e-03, α = 1.00e+00, m = 4, nfg = 1\n",
      "\u001b[36m\u001b[1m[ \u001b[22m\u001b[39m\u001b[36m\u001b[1mInfo: \u001b[22m\u001b[39mCTMRG init:\tobj = +3.347263246781e+01\terr = 1.0000e+00\n",
      "\u001b[36m\u001b[1m[ \u001b[22m\u001b[39m\u001b[36m\u001b[1mInfo: \u001b[22m\u001b[39mCTMRG conv 14:\tobj = +3.347253233147e+01\terr = 3.7031671751e-11\ttime = 0.24 sec\n",
      "\u001b[36m\u001b[1m[ \u001b[22m\u001b[39m\u001b[36m\u001b[1mInfo: \u001b[22m\u001b[39mCTMRG init:\tobj = +3.336173714953e+01\terr = 1.0000e+00\n",
      "\u001b[36m\u001b[1m[ \u001b[22m\u001b[39m\u001b[36m\u001b[1mInfo: \u001b[22m\u001b[39mCTMRG conv 13:\tobj = +3.336172494695e+01\terr = 3.9695730446e-11\ttime = 0.14 sec\n",
      "\u001b[36m\u001b[1m[ \u001b[22m\u001b[39m\u001b[36m\u001b[1mInfo: \u001b[22m\u001b[39mLBFGS: iter   23: f = -0.660578704690, ‖∇f‖ = 1.7496e-03, α = 3.46e-01, m = 4, nfg = 2\n",
      "\u001b[36m\u001b[1m[ \u001b[22m\u001b[39m\u001b[36m\u001b[1mInfo: \u001b[22m\u001b[39mCTMRG init:\tobj = +3.338191756993e+01\terr = 1.0000e+00\n",
      "\u001b[36m\u001b[1m[ \u001b[22m\u001b[39m\u001b[36m\u001b[1mInfo: \u001b[22m\u001b[39mCTMRG conv 14:\tobj = +3.338196676841e+01\terr = 4.1193511627e-11\ttime = 0.20 sec\n",
      "\u001b[36m\u001b[1m[ \u001b[22m\u001b[39m\u001b[36m\u001b[1mInfo: \u001b[22m\u001b[39mLBFGS: iter   24: f = -0.660601124435, ‖∇f‖ = 1.3118e-03, α = 1.00e+00, m = 4, nfg = 1\n",
      "\u001b[36m\u001b[1m[ \u001b[22m\u001b[39m\u001b[36m\u001b[1mInfo: \u001b[22m\u001b[39mCTMRG init:\tobj = +3.340653082277e+01\terr = 1.0000e+00\n",
      "\u001b[36m\u001b[1m[ \u001b[22m\u001b[39m\u001b[36m\u001b[1mInfo: \u001b[22m\u001b[39mCTMRG conv 14:\tobj = +3.340648767639e+01\terr = 7.8769226012e-11\ttime = 0.18 sec\n",
      "\u001b[36m\u001b[1m[ \u001b[22m\u001b[39m\u001b[36m\u001b[1mInfo: \u001b[22m\u001b[39mLBFGS: iter   25: f = -0.660651960829, ‖∇f‖ = 1.1987e-03, α = 1.00e+00, m = 4, nfg = 1\n",
      "\u001b[36m\u001b[1m[ \u001b[22m\u001b[39m\u001b[36m\u001b[1mInfo: \u001b[22m\u001b[39mCTMRG init:\tobj = +3.339767679495e+01\terr = 1.0000e+00\n",
      "\u001b[36m\u001b[1m[ \u001b[22m\u001b[39m\u001b[36m\u001b[1mInfo: \u001b[22m\u001b[39mCTMRG conv 15:\tobj = +3.339720599581e+01\terr = 3.6000044886e-11\ttime = 0.14 sec\n",
      "\u001b[36m\u001b[1m[ \u001b[22m\u001b[39m\u001b[36m\u001b[1mInfo: \u001b[22m\u001b[39mLBFGS: iter   26: f = -0.660725103501, ‖∇f‖ = 1.7514e-03, α = 1.00e+00, m = 4, nfg = 1\n",
      "\u001b[36m\u001b[1m[ \u001b[22m\u001b[39m\u001b[36m\u001b[1mInfo: \u001b[22m\u001b[39mCTMRG init:\tobj = +3.342333581863e+01\terr = 1.0000e+00\n",
      "\u001b[36m\u001b[1m[ \u001b[22m\u001b[39m\u001b[36m\u001b[1mInfo: \u001b[22m\u001b[39mCTMRG conv 16:\tobj = +3.341878474055e+01\terr = 5.4643684434e-11\ttime = 0.20 sec\n",
      "\u001b[36m\u001b[1m[ \u001b[22m\u001b[39m\u001b[36m\u001b[1mInfo: \u001b[22m\u001b[39mLBFGS: iter   27: f = -0.660878458881, ‖∇f‖ = 2.8395e-03, α = 1.00e+00, m = 4, nfg = 1\n",
      "\u001b[36m\u001b[1m[ \u001b[22m\u001b[39m\u001b[36m\u001b[1mInfo: \u001b[22m\u001b[39mCTMRG init:\tobj = +3.348063315390e+01\terr = 1.0000e+00\n",
      "\u001b[36m\u001b[1m[ \u001b[22m\u001b[39m\u001b[36m\u001b[1mInfo: \u001b[22m\u001b[39mCTMRG conv 17:\tobj = +3.347524733435e+01\terr = 6.4055374188e-11\ttime = 0.20 sec\n",
      "\u001b[36m\u001b[1m[ \u001b[22m\u001b[39m\u001b[36m\u001b[1mInfo: \u001b[22m\u001b[39mCTMRG init:\tobj = +3.344243126225e+01\terr = 1.0000e+00\n",
      "\u001b[36m\u001b[1m[ \u001b[22m\u001b[39m\u001b[36m\u001b[1mInfo: \u001b[22m\u001b[39mCTMRG conv 16:\tobj = +3.344137187642e+01\terr = 3.2873590915e-11\ttime = 0.16 sec\n",
      "\u001b[36m\u001b[1m[ \u001b[22m\u001b[39m\u001b[36m\u001b[1mInfo: \u001b[22m\u001b[39mLBFGS: iter   28: f = -0.660957920269, ‖∇f‖ = 3.7927e-03, α = 4.26e-01, m = 4, nfg = 2\n",
      "\u001b[36m\u001b[1m[ \u001b[22m\u001b[39m\u001b[36m\u001b[1mInfo: \u001b[22m\u001b[39mCTMRG init:\tobj = +3.340008498689e+01\terr = 1.0000e+00\n",
      "\u001b[36m\u001b[1m[ \u001b[22m\u001b[39m\u001b[36m\u001b[1mInfo: \u001b[22m\u001b[39mCTMRG conv 16:\tobj = +3.339945539369e+01\terr = 3.3475116667e-11\ttime = 0.15 sec\n",
      "\u001b[36m\u001b[1m[ \u001b[22m\u001b[39m\u001b[36m\u001b[1mInfo: \u001b[22m\u001b[39mLBFGS: iter   29: f = -0.661079140037, ‖∇f‖ = 2.0800e-03, α = 1.00e+00, m = 4, nfg = 1\n",
      "\u001b[36m\u001b[1m[ \u001b[22m\u001b[39m\u001b[36m\u001b[1mInfo: \u001b[22m\u001b[39mCTMRG init:\tobj = +3.333288920824e+01\terr = 1.0000e+00\n",
      "\u001b[36m\u001b[1m[ \u001b[22m\u001b[39m\u001b[36m\u001b[1mInfo: \u001b[22m\u001b[39mCTMRG conv 16:\tobj = +3.333255529753e+01\terr = 5.4880836203e-11\ttime = 0.18 sec\n",
      "\u001b[36m\u001b[1m[ \u001b[22m\u001b[39m\u001b[36m\u001b[1mInfo: \u001b[22m\u001b[39mLBFGS: iter   30: f = -0.661161778248, ‖∇f‖ = 1.8771e-03, α = 1.00e+00, m = 4, nfg = 1\n",
      "\u001b[36m\u001b[1m[ \u001b[22m\u001b[39m\u001b[36m\u001b[1mInfo: \u001b[22m\u001b[39mCTMRG init:\tobj = +3.319355217528e+01\terr = 1.0000e+00\n",
      "\u001b[36m\u001b[1m[ \u001b[22m\u001b[39m\u001b[36m\u001b[1mInfo: \u001b[22m\u001b[39mCTMRG conv 17:\tobj = +3.319445089046e+01\terr = 6.9249040637e-11\ttime = 0.22 sec\n",
      "\u001b[36m\u001b[1m[ \u001b[22m\u001b[39m\u001b[36m\u001b[1mInfo: \u001b[22m\u001b[39mLBFGS: iter   31: f = -0.661219496051, ‖∇f‖ = 2.2402e-03, α = 1.00e+00, m = 4, nfg = 1\n",
      "\u001b[36m\u001b[1m[ \u001b[22m\u001b[39m\u001b[36m\u001b[1mInfo: \u001b[22m\u001b[39mCTMRG init:\tobj = +3.314285933659e+01\terr = 1.0000e+00\n",
      "\u001b[36m\u001b[1m[ \u001b[22m\u001b[39m\u001b[36m\u001b[1mInfo: \u001b[22m\u001b[39mCTMRG conv 16:\tobj = +3.314294780167e+01\terr = 3.1423101068e-11\ttime = 0.22 sec\n",
      "\u001b[36m\u001b[1m[ \u001b[22m\u001b[39m\u001b[36m\u001b[1mInfo: \u001b[22m\u001b[39mLBFGS: iter   32: f = -0.661267821346, ‖∇f‖ = 1.8896e-03, α = 1.00e+00, m = 4, nfg = 1\n",
      "\u001b[36m\u001b[1m[ \u001b[22m\u001b[39m\u001b[36m\u001b[1mInfo: \u001b[22m\u001b[39mCTMRG init:\tobj = +3.305034197229e+01\terr = 1.0000e+00\n",
      "\u001b[36m\u001b[1m[ \u001b[22m\u001b[39m\u001b[36m\u001b[1mInfo: \u001b[22m\u001b[39mCTMRG conv 16:\tobj = +3.305201221575e+01\terr = 6.7305807047e-11\ttime = 0.22 sec\n",
      "\u001b[36m\u001b[1m[ \u001b[22m\u001b[39m\u001b[36m\u001b[1mInfo: \u001b[22m\u001b[39mLBFGS: iter   33: f = -0.661355332050, ‖∇f‖ = 1.7480e-03, α = 1.00e+00, m = 4, nfg = 1\n",
      "\u001b[36m\u001b[1m[ \u001b[22m\u001b[39m\u001b[36m\u001b[1mInfo: \u001b[22m\u001b[39mCTMRG init:\tobj = +3.299527270534e+01\terr = 1.0000e+00\n",
      "\u001b[36m\u001b[1m[ \u001b[22m\u001b[39m\u001b[36m\u001b[1mInfo: \u001b[22m\u001b[39mCTMRG conv 16:\tobj = +3.299578268458e+01\terr = 5.7090818691e-11\ttime = 0.22 sec\n",
      "\u001b[36m\u001b[1m[ \u001b[22m\u001b[39m\u001b[36m\u001b[1mInfo: \u001b[22m\u001b[39mLBFGS: iter   34: f = -0.661384386579, ‖∇f‖ = 2.4141e-03, α = 1.00e+00, m = 4, nfg = 1\n",
      "\u001b[36m\u001b[1m[ \u001b[22m\u001b[39m\u001b[36m\u001b[1mInfo: \u001b[22m\u001b[39mCTMRG init:\tobj = +3.301946486459e+01\terr = 1.0000e+00\n",
      "\u001b[36m\u001b[1m[ \u001b[22m\u001b[39m\u001b[36m\u001b[1mInfo: \u001b[22m\u001b[39mCTMRG conv 14:\tobj = +3.301947381584e+01\terr = 6.4577704520e-11\ttime = 0.17 sec\n",
      "\u001b[36m\u001b[1m[ \u001b[22m\u001b[39m\u001b[36m\u001b[1mInfo: \u001b[22m\u001b[39mLBFGS: iter   35: f = -0.661429097420, ‖∇f‖ = 1.6381e-03, α = 1.00e+00, m = 4, nfg = 1\n",
      "\u001b[36m\u001b[1m[ \u001b[22m\u001b[39m\u001b[36m\u001b[1mInfo: \u001b[22m\u001b[39mCTMRG init:\tobj = +3.299249029895e+01\terr = 1.0000e+00\n",
      "\u001b[36m\u001b[1m[ \u001b[22m\u001b[39m\u001b[36m\u001b[1mInfo: \u001b[22m\u001b[39mCTMRG conv 16:\tobj = +3.299375425600e+01\terr = 5.5976311978e-11\ttime = 0.19 sec\n",
      "\u001b[36m\u001b[1m[ \u001b[22m\u001b[39m\u001b[36m\u001b[1mInfo: \u001b[22m\u001b[39mLBFGS: iter   36: f = -0.661545659491, ‖∇f‖ = 1.5666e-03, α = 1.00e+00, m = 4, nfg = 1\n",
      "\u001b[36m\u001b[1m[ \u001b[22m\u001b[39m\u001b[36m\u001b[1mInfo: \u001b[22m\u001b[39mCTMRG init:\tobj = +3.289508444397e+01\terr = 1.0000e+00\n",
      "\u001b[36m\u001b[1m[ \u001b[22m\u001b[39m\u001b[36m\u001b[1mInfo: \u001b[22m\u001b[39mCTMRG conv 17:\tobj = +3.289891834161e+01\terr = 4.4640635006e-11\ttime = 0.20 sec\n",
      "\u001b[36m\u001b[1m[ \u001b[22m\u001b[39m\u001b[36m\u001b[1mInfo: \u001b[22m\u001b[39mLBFGS: iter   37: f = -0.661634059026, ‖∇f‖ = 2.5263e-03, α = 1.00e+00, m = 4, nfg = 1\n",
      "\u001b[36m\u001b[1m[ \u001b[22m\u001b[39m\u001b[36m\u001b[1mInfo: \u001b[22m\u001b[39mCTMRG init:\tobj = +3.284492152616e+01\terr = 1.0000e+00\n",
      "\u001b[36m\u001b[1m[ \u001b[22m\u001b[39m\u001b[36m\u001b[1mInfo: \u001b[22m\u001b[39mCTMRG conv 19:\tobj = +3.285298231244e+01\terr = 4.6231977279e-11\ttime = 0.23 sec\n",
      "\u001b[36m\u001b[1m[ \u001b[22m\u001b[39m\u001b[36m\u001b[1mInfo: \u001b[22m\u001b[39mLBFGS: iter   38: f = -0.661670928474, ‖∇f‖ = 4.7418e-03, α = 1.00e+00, m = 4, nfg = 1\n",
      "\u001b[36m\u001b[1m[ \u001b[22m\u001b[39m\u001b[36m\u001b[1mInfo: \u001b[22m\u001b[39mCTMRG init:\tobj = +3.287006054361e+01\terr = 1.0000e+00\n",
      "\u001b[36m\u001b[1m[ \u001b[22m\u001b[39m\u001b[36m\u001b[1mInfo: \u001b[22m\u001b[39mCTMRG conv 17:\tobj = +3.287008381155e+01\terr = 7.6817885879e-11\ttime = 0.25 sec\n",
      "\u001b[36m\u001b[1m[ \u001b[22m\u001b[39m\u001b[36m\u001b[1mInfo: \u001b[22m\u001b[39mLBFGS: iter   39: f = -0.661769727493, ‖∇f‖ = 1.9284e-03, α = 1.00e+00, m = 4, nfg = 1\n",
      "\u001b[36m\u001b[1m[ \u001b[22m\u001b[39m\u001b[36m\u001b[1mInfo: \u001b[22m\u001b[39mCTMRG init:\tobj = +3.290385474533e+01\terr = 1.0000e+00\n",
      "\u001b[36m\u001b[1m[ \u001b[22m\u001b[39m\u001b[36m\u001b[1mInfo: \u001b[22m\u001b[39mCTMRG conv 17:\tobj = +3.290401706769e+01\terr = 5.1109889474e-11\ttime = 0.14 sec\n",
      "\u001b[36m\u001b[1m[ \u001b[22m\u001b[39m\u001b[36m\u001b[1mInfo: \u001b[22m\u001b[39mLBFGS: iter   40: f = -0.661848382698, ‖∇f‖ = 1.6858e-03, α = 1.00e+00, m = 4, nfg = 1\n",
      "\u001b[36m\u001b[1m[ \u001b[22m\u001b[39m\u001b[36m\u001b[1mInfo: \u001b[22m\u001b[39mCTMRG init:\tobj = +3.301096351995e+01\terr = 1.0000e+00\n",
      "\u001b[36m\u001b[1m[ \u001b[22m\u001b[39m\u001b[36m\u001b[1mInfo: \u001b[22m\u001b[39mCTMRG conv 17:\tobj = +3.301216159990e+01\terr = 6.1823551916e-11\ttime = 0.15 sec\n",
      "\u001b[36m\u001b[1m[ \u001b[22m\u001b[39m\u001b[36m\u001b[1mInfo: \u001b[22m\u001b[39mLBFGS: iter   41: f = -0.661957436081, ‖∇f‖ = 2.3652e-03, α = 1.00e+00, m = 4, nfg = 1\n",
      "\u001b[36m\u001b[1m[ \u001b[22m\u001b[39m\u001b[36m\u001b[1mInfo: \u001b[22m\u001b[39mCTMRG init:\tobj = +3.321500919537e+01\terr = 1.0000e+00\n",
      "\u001b[36m\u001b[1m[ \u001b[22m\u001b[39m\u001b[36m\u001b[1mInfo: \u001b[22m\u001b[39mCTMRG conv 19:\tobj = +3.321727447717e+01\terr = 6.9877705677e-11\ttime = 0.19 sec\n",
      "\u001b[36m\u001b[1m[ \u001b[22m\u001b[39m\u001b[36m\u001b[1mInfo: \u001b[22m\u001b[39mLBFGS: iter   42: f = -0.662086135865, ‖∇f‖ = 3.0161e-03, α = 1.00e+00, m = 4, nfg = 1\n",
      "\u001b[36m\u001b[1m[ \u001b[22m\u001b[39m\u001b[36m\u001b[1mInfo: \u001b[22m\u001b[39mCTMRG init:\tobj = +3.369633308946e+01\terr = 1.0000e+00\n",
      "\u001b[36m\u001b[1m[ \u001b[22m\u001b[39m\u001b[36m\u001b[1mInfo: \u001b[22m\u001b[39mCTMRG conv 23:\tobj = +3.370443728425e+01\terr = 5.9026108466e-11\ttime = 0.22 sec\n",
      "\u001b[36m\u001b[1m[ \u001b[22m\u001b[39m\u001b[36m\u001b[1mInfo: \u001b[22m\u001b[39mCTMRG init:\tobj = +3.341628388828e+01\terr = 1.0000e+00\n",
      "\u001b[36m\u001b[1m[ \u001b[22m\u001b[39m\u001b[36m\u001b[1mInfo: \u001b[22m\u001b[39mCTMRG conv 20:\tobj = +3.341771781860e+01\terr = 6.3762004398e-11\ttime = 0.18 sec\n",
      "\u001b[36m\u001b[1m[ \u001b[22m\u001b[39m\u001b[36m\u001b[1mInfo: \u001b[22m\u001b[39mLBFGS: iter   43: f = -0.662180812878, ‖∇f‖ = 3.2674e-03, α = 4.21e-01, m = 4, nfg = 2\n",
      "\u001b[36m\u001b[1m[ \u001b[22m\u001b[39m\u001b[36m\u001b[1mInfo: \u001b[22m\u001b[39mCTMRG init:\tobj = +3.354416791981e+01\terr = 1.0000e+00\n",
      "\u001b[36m\u001b[1m[ \u001b[22m\u001b[39m\u001b[36m\u001b[1mInfo: \u001b[22m\u001b[39mCTMRG conv 19:\tobj = +3.354374282961e+01\terr = 8.2680607964e-11\ttime = 0.18 sec\n",
      "\u001b[36m\u001b[1m[ \u001b[22m\u001b[39m\u001b[36m\u001b[1mInfo: \u001b[22m\u001b[39mLBFGS: iter   44: f = -0.662281183460, ‖∇f‖ = 1.4062e-03, α = 1.00e+00, m = 4, nfg = 1\n",
      "\u001b[36m\u001b[1m[ \u001b[22m\u001b[39m\u001b[36m\u001b[1mInfo: \u001b[22m\u001b[39mCTMRG init:\tobj = +3.363090377843e+01\terr = 1.0000e+00\n",
      "\u001b[36m\u001b[1m[ \u001b[22m\u001b[39m\u001b[36m\u001b[1mInfo: \u001b[22m\u001b[39mCTMRG conv 19:\tobj = +3.363064514848e+01\terr = 7.9733953933e-11\ttime = 0.18 sec\n",
      "\u001b[36m\u001b[1m[ \u001b[22m\u001b[39m\u001b[36m\u001b[1mInfo: \u001b[22m\u001b[39mLBFGS: iter   45: f = -0.662336068420, ‖∇f‖ = 1.2462e-03, α = 1.00e+00, m = 4, nfg = 1\n",
      "\u001b[36m\u001b[1m[ \u001b[22m\u001b[39m\u001b[36m\u001b[1mInfo: \u001b[22m\u001b[39mCTMRG init:\tobj = +3.366169773059e+01\terr = 1.0000e+00\n",
      "\u001b[36m\u001b[1m[ \u001b[22m\u001b[39m\u001b[36m\u001b[1mInfo: \u001b[22m\u001b[39mCTMRG conv 19:\tobj = +3.366147456009e+01\terr = 6.6654792283e-11\ttime = 0.19 sec\n",
      "\u001b[36m\u001b[1m[ \u001b[22m\u001b[39m\u001b[36m\u001b[1mInfo: \u001b[22m\u001b[39mLBFGS: iter   46: f = -0.662380698644, ‖∇f‖ = 1.9787e-03, α = 1.00e+00, m = 4, nfg = 1\n",
      "\u001b[36m\u001b[1m[ \u001b[22m\u001b[39m\u001b[36m\u001b[1mInfo: \u001b[22m\u001b[39mCTMRG init:\tobj = +3.374252288441e+01\terr = 1.0000e+00\n",
      "\u001b[36m\u001b[1m[ \u001b[22m\u001b[39m\u001b[36m\u001b[1mInfo: \u001b[22m\u001b[39mCTMRG conv 19:\tobj = +3.374184534347e+01\terr = 4.8872411010e-11\ttime = 0.19 sec\n",
      "\u001b[36m\u001b[1m[ \u001b[22m\u001b[39m\u001b[36m\u001b[1mInfo: \u001b[22m\u001b[39mLBFGS: iter   47: f = -0.662427532187, ‖∇f‖ = 1.3436e-03, α = 1.00e+00, m = 4, nfg = 1\n",
      "\u001b[36m\u001b[1m[ \u001b[22m\u001b[39m\u001b[36m\u001b[1mInfo: \u001b[22m\u001b[39mCTMRG init:\tobj = +3.393861115656e+01\terr = 1.0000e+00\n",
      "\u001b[36m\u001b[1m[ \u001b[22m\u001b[39m\u001b[36m\u001b[1mInfo: \u001b[22m\u001b[39mCTMRG conv 19:\tobj = +3.393789928068e+01\terr = 5.0416879236e-11\ttime = 0.18 sec\n",
      "\u001b[36m\u001b[1m[ \u001b[22m\u001b[39m\u001b[36m\u001b[1mInfo: \u001b[22m\u001b[39mLBFGS: iter   48: f = -0.662464083088, ‖∇f‖ = 1.0114e-03, α = 1.00e+00, m = 4, nfg = 1\n",
      "\u001b[36m\u001b[1m[ \u001b[22m\u001b[39m\u001b[36m\u001b[1mInfo: \u001b[22m\u001b[39mCTMRG init:\tobj = +3.396903272647e+01\terr = 1.0000e+00\n",
      "\u001b[36m\u001b[1m[ \u001b[22m\u001b[39m\u001b[36m\u001b[1mInfo: \u001b[22m\u001b[39mCTMRG conv 18:\tobj = +3.396907174231e+01\terr = 6.4500618784e-11\ttime = 0.17 sec\n",
      "\u001b[36m\u001b[1m[ \u001b[22m\u001b[39m\u001b[36m\u001b[1mInfo: \u001b[22m\u001b[39mLBFGS: converged after 49 iterations: f = -0.662480630724, ‖∇f‖ = 9.1960e-04\n"
     ]
    },
    {
     "data": {
      "text/plain": [
       "-0.6624806307242881"
      ]
     },
     "execution_count": 93,
     "metadata": {},
     "output_type": "execute_result"
    }
   ],
   "source": [
    "opt_alg = PEPSOptimize(;\n",
    "    boundary_alg=ctm_alg,\n",
    "    optimizer=LBFGS(4; maxiter=100, gradtol=1e-3, verbosity=2),\n",
    "    gradient_alg=LinSolver(; solver=GMRES(; tol=1e-6), iterscheme=:fixed),\n",
    "    reuse_env=true,\n",
    ")\n",
    "result = fixedpoint(psi_init, H, opt_alg, env_init)\n",
    "result.E"
   ]
  },
  {
   "cell_type": "markdown",
   "id": "57b89f59-932a-40c5-b20c-8f41ca459680",
   "metadata": {},
   "source": [
    "already approaching the exact minimum quite ok. "
   ]
  },
  {
   "cell_type": "markdown",
   "id": "52f40091-ef26-4b4f-a17d-1bd81b74d7f7",
   "metadata": {},
   "source": [
    "## 2. LocalOperator\n",
    "\n",
    "### 2.1. Heisenberg (again)\n",
    "\n",
    "Our first step consisted of constructing the Hamiltonian. Some particular models are already in `models.jl` but generally one builds a local Hamitonian $H$ by defining a `lattice`, i.e. a unit cell of physical spaces, and `terms`, corresponding to the terms contributing to $H$. For the Heisenberg model, the physical space is the same on every site and given by"
   ]
  },
  {
   "cell_type": "code",
   "execution_count": 94,
   "id": "630ce8ed-519f-4159-9db7-af1362254722",
   "metadata": {},
   "outputs": [
    {
     "data": {
      "text/plain": [
       "ℂ^2"
      ]
     },
     "execution_count": 94,
     "metadata": {},
     "output_type": "execute_result"
    }
   ],
   "source": [
    "physical_space = ComplexSpace(2)"
   ]
  },
  {
   "cell_type": "markdown",
   "id": "001ce815-c1a9-4a52-b8af-106583380597",
   "metadata": {},
   "source": [
    "so that"
   ]
  },
  {
   "cell_type": "code",
   "execution_count": 95,
   "id": "4305e2ce-0981-4dbb-b1bf-be1482bb1ded",
   "metadata": {},
   "outputs": [
    {
     "data": {
      "text/plain": [
       "1×1 Matrix{ComplexSpace}:\n",
       " ℂ^2"
      ]
     },
     "execution_count": 95,
     "metadata": {},
     "output_type": "execute_result"
    }
   ],
   "source": [
    "lattice = fill(physical_space, 1, 1)"
   ]
  },
  {
   "cell_type": "markdown",
   "id": "c02f8a97-fea3-4c3e-8fee-88c33cd764f5",
   "metadata": {},
   "source": [
    "The Hamiltonian consists of identical horizontal and vertical nearest-neighbour terms that we can construct as"
   ]
  },
  {
   "cell_type": "code",
   "execution_count": 96,
   "id": "2036e483-09c7-4018-a0b6-c00074924d27",
   "metadata": {},
   "outputs": [
    {
     "data": {
      "text/plain": [
       "TensorMap((ℂ^2 ⊗ ℂ^2) ← (ℂ^2 ⊗ ℂ^2)):\n",
       "[:, :, 1, 1] =\n",
       " -0.25 + 0.0im   0.0 + 0.0im\n",
       "   0.0 + 0.0im  -0.5 + 0.0im\n",
       "\n",
       "[:, :, 2, 1] =\n",
       "  0.0 + 0.0im  0.0 + 0.0im\n",
       " 0.25 + 0.0im  0.0 + 0.0im\n",
       "\n",
       "[:, :, 1, 2] =\n",
       " 0.0 + 0.0im  0.25 + 0.0im\n",
       " 0.0 + 0.0im   0.0 + 0.0im\n",
       "\n",
       "[:, :, 2, 2] =\n",
       " -0.5 + 0.0im    0.0 + 0.0im\n",
       "  0.0 + 0.0im  -0.25 + 0.0im\n"
      ]
     },
     "execution_count": 96,
     "metadata": {},
     "output_type": "execute_result"
    }
   ],
   "source": [
    "Jx = -1\n",
    "Jy = 1\n",
    "Jz = -1\n",
    "\n",
    "T = ComplexF64\n",
    "σx = TensorMap(T[0 1; 1 0], physical_space, physical_space)\n",
    "σy = TensorMap(T[0 im; -im 0], physical_space, physical_space)\n",
    "σz = TensorMap(T[1 0; 0 -1], physical_space, physical_space)\n",
    "\n",
    "h = 1/4*((Jx * σx ⊗ σx) + (Jy * σy ⊗ σy) + (Jz * σz ⊗ σz))"
   ]
  },
  {
   "cell_type": "markdown",
   "id": "a4e5b732-9f5a-4a6e-8aab-53c1fbd6953c",
   "metadata": {},
   "source": [
    "These are exactly the `TensorMap`s present in the `H` we constructed via the direct command before. We can again put them in a `LocalOperator` by turning them into `terms`: i.e. a tuple of the sites where `h` acts (labeled as a matrix) and their corresponding Hamiltonian contribution:"
   ]
  },
  {
   "cell_type": "code",
   "execution_count": 97,
   "id": "1d9f1f0d-ecc3-4e2e-a2c3-1fa31c50f026",
   "metadata": {},
   "outputs": [
    {
     "data": {
      "text/plain": [
       "(CartesianIndex(1, 1), CartesianIndex(2, 1)) => TensorMap((ℂ^2 ⊗ ℂ^2) ← (ℂ^2 ⊗ ℂ^2)):\n",
       "[:, :, 1, 1] =\n",
       " -0.25 + 0.0im   0.0 + 0.0im\n",
       "   0.0 + 0.0im  -0.5 + 0.0im\n",
       "\n",
       "[:, :, 2, 1] =\n",
       "  0.0 + 0.0im  0.0 + 0.0im\n",
       " 0.25 + 0.0im  0.0 + 0.0im\n",
       "\n",
       "[:, :, 1, 2] =\n",
       " 0.0 + 0.0im  0.25 + 0.0im\n",
       " 0.0 + 0.0im   0.0 + 0.0im\n",
       "\n",
       "[:, :, 2, 2] =\n",
       " -0.5 + 0.0im    0.0 + 0.0im\n",
       "  0.0 + 0.0im  -0.25 + 0.0im\n"
      ]
     },
     "execution_count": 97,
     "metadata": {},
     "output_type": "execute_result"
    }
   ],
   "source": [
    "term1 = (CartesianIndex(1, 1), CartesianIndex(1, 2)) => h\n",
    "term2 = (CartesianIndex(1, 1), CartesianIndex(2, 1)) => h"
   ]
  },
  {
   "cell_type": "markdown",
   "id": "147c2aac-59ee-4985-8aca-46fdb55e0049",
   "metadata": {},
   "source": [
    "The `LocalOperator` is then given by"
   ]
  },
  {
   "cell_type": "code",
   "execution_count": 98,
   "id": "73948da5-91c1-4fa9-a6fc-f367409557d9",
   "metadata": {},
   "outputs": [
    {
     "data": {
      "text/plain": [
       "LocalOperator{Tuple{Pair{Tuple{CartesianIndex{2}, CartesianIndex{2}}, TrivialTensorMap{ComplexSpace, 2, 2, Matrix{ComplexF64}}}, Pair{Tuple{CartesianIndex{2}, CartesianIndex{2}}, TrivialTensorMap{ComplexSpace, 2, 2, Matrix{ComplexF64}}}}, ComplexSpace}(ComplexSpace[ℂ^2;;], ((CartesianIndex(1, 1), CartesianIndex(1, 2)) => TensorMap((ℂ^2 ⊗ ℂ^2) ← (ℂ^2 ⊗ ℂ^2)):\n",
       "[:, :, 1, 1] =\n",
       " -0.25 + 0.0im   0.0 + 0.0im\n",
       "   0.0 + 0.0im  -0.5 + 0.0im\n",
       "\n",
       "[:, :, 2, 1] =\n",
       "  0.0 + 0.0im  0.0 + 0.0im\n",
       " 0.25 + 0.0im  0.0 + 0.0im\n",
       "\n",
       "[:, :, 1, 2] =\n",
       " 0.0 + 0.0im  0.25 + 0.0im\n",
       " 0.0 + 0.0im   0.0 + 0.0im\n",
       "\n",
       "[:, :, 2, 2] =\n",
       " -0.5 + 0.0im    0.0 + 0.0im\n",
       "  0.0 + 0.0im  -0.25 + 0.0im\n",
       ", (CartesianIndex(1, 1), CartesianIndex(2, 1)) => TensorMap((ℂ^2 ⊗ ℂ^2) ← (ℂ^2 ⊗ ℂ^2)):\n",
       "[:, :, 1, 1] =\n",
       " -0.25 + 0.0im   0.0 + 0.0im\n",
       "   0.0 + 0.0im  -0.5 + 0.0im\n",
       "\n",
       "[:, :, 2, 1] =\n",
       "  0.0 + 0.0im  0.0 + 0.0im\n",
       " 0.25 + 0.0im  0.0 + 0.0im\n",
       "\n",
       "[:, :, 1, 2] =\n",
       " 0.0 + 0.0im  0.25 + 0.0im\n",
       " 0.0 + 0.0im   0.0 + 0.0im\n",
       "\n",
       "[:, :, 2, 2] =\n",
       " -0.5 + 0.0im    0.0 + 0.0im\n",
       "  0.0 + 0.0im  -0.25 + 0.0im\n",
       "))"
      ]
     },
     "execution_count": 98,
     "metadata": {},
     "output_type": "execute_result"
    }
   ],
   "source": [
    "HH = LocalOperator(lattice, term1, term2)"
   ]
  },
  {
   "cell_type": "markdown",
   "id": "cdcb24a3-84f2-44c1-8b79-938b7300e173",
   "metadata": {},
   "source": [
    "This is exactly the same H as the one constructed via the direct command:"
   ]
  },
  {
   "cell_type": "code",
   "execution_count": 99,
   "id": "7689d965-84e3-4fe5-b857-08e9058e3a91",
   "metadata": {},
   "outputs": [
    {
     "data": {
      "text/plain": [
       "LocalOperator{Tuple{}, ComplexSpace}(ComplexSpace[ℂ^2;;], ())"
      ]
     },
     "execution_count": 99,
     "metadata": {},
     "output_type": "execute_result"
    }
   ],
   "source": [
    "HH-H"
   ]
  },
  {
   "cell_type": "markdown",
   "id": "31d01553-be08-4af7-af14-b7ab6251c758",
   "metadata": {},
   "source": [
    "For Hamiltonians solely consisting out of identical nearest-neighbour contributions, one can also use"
   ]
  },
  {
   "cell_type": "code",
   "execution_count": 100,
   "id": "07671bf5-3f14-4422-8988-cf75a3ba7c13",
   "metadata": {},
   "outputs": [
    {
     "data": {
      "text/plain": [
       "LocalOperator{Tuple{}, ComplexSpace}(ComplexSpace[ℂ^2;;], ())"
      ]
     },
     "execution_count": 100,
     "metadata": {},
     "output_type": "execute_result"
    }
   ],
   "source": [
    "HHH = PEPSKit.nearest_neighbour_hamiltonian(lattice, h)\n",
    "H-HHH"
   ]
  },
  {
   "cell_type": "markdown",
   "id": "7ef66c08-35fb-4a84-8ee4-acf4e18dcb8a",
   "metadata": {},
   "source": [
    "### 2.2 p-wave superconductor\n",
    "\n",
    "As a slightly more involved example, we consider the fermionic p-wave superconductor with Hamiltonian:\n",
    "\n",
    "$$\n",
    "H = - t \\sum_\\mathbf{n} \\left( c_\\mathbf{n}^\\dagger c_{\\mathbf{n}_\\rightarrow}+ c_\\mathbf{n}^\\dagger c_{\\mathbf{n}_\\uparrow} +h.c.\\right) -\\mu \\sum_\\mathbf{n} c_\\mathbf{n}^\\dagger c_{\\mathbf{n}} - \\Delta \\sum_\\mathbf{n} \\left(c_\\mathbf{n}^\\dagger c_{\\mathbf{n}_\\rightarrow}^\\dagger + i c_\\mathbf{n}^\\dagger c_{\\mathbf{n}_\\uparrow}^\\dagger + h.c.\\right)\n",
    "$$\n",
    "\n",
    "consisting out of identical horizontal and vertical nearest-neighbour hopping terms, an on-site chemical potential term, and nearest-neighbour pairing terms, equal in strength but with a different phase in the horizontal and vertical direction. We choose:"
   ]
  },
  {
   "cell_type": "code",
   "execution_count": 101,
   "id": "b6e6aa68-8038-42ad-83f1-99fd623ee991",
   "metadata": {},
   "outputs": [],
   "source": [
    "t = 1\n",
    "μ = 2\n",
    "Δ = 1;"
   ]
  },
  {
   "cell_type": "markdown",
   "id": "9023edc3-9c51-4ad6-abce-0ececc827c4b",
   "metadata": {},
   "source": [
    "The physical space is again two-dimensional but fermionic now. This implies that it decomposes in an even and odd fermion parity sector, i.e. it is a $\\mathbb{Z}_2$-graded Hilbert space. To work with fermionic tensors consisting out of spaces exhibiting this $f\\mathbb{Z}_2$ symmetry, we define"
   ]
  },
  {
   "cell_type": "code",
   "execution_count": 102,
   "id": "b606832e-d3ec-4839-a476-8e99abdda8b0",
   "metadata": {},
   "outputs": [
    {
     "data": {
      "text/plain": [
       "Vect[FermionParity](0=>1, 1=>1)"
      ]
     },
     "execution_count": 102,
     "metadata": {},
     "output_type": "execute_result"
    }
   ],
   "source": [
    "physical_space = Vect[FermionParity](0 => 1, 1 => 1)"
   ]
  },
  {
   "cell_type": "markdown",
   "id": "e1941b7f-a5c1-47c5-9336-cf430f1a7a2f",
   "metadata": {},
   "source": [
    "Using these spaces in combination with `TensorMap`, the on-site contribution to $H$ can for instance be defined as:"
   ]
  },
  {
   "cell_type": "code",
   "execution_count": 103,
   "id": "40c4d484-9c83-496f-8bfb-f193d5256716",
   "metadata": {},
   "outputs": [
    {
     "data": {
      "text/plain": [
       "TensorMap(Vect[FermionParity](0=>1, 1=>1) ← Vect[FermionParity](0=>1, 1=>1)):\n",
       "* Data for sector (FermionParity(0),) ← (FermionParity(0),):\n",
       " 0.0 + 0.0im\n",
       "* Data for sector (FermionParity(1),) ← (FermionParity(1),):\n",
       " -2.0 + 0.0im\n"
      ]
     },
     "execution_count": 103,
     "metadata": {},
     "output_type": "execute_result"
    }
   ],
   "source": [
    "h0 = TensorMap(zeros, T, physical_space ← physical_space)\n",
    "block(h0, FermionParity(1)) .= -μ\n",
    "h0"
   ]
  },
  {
   "cell_type": "markdown",
   "id": "533cdc17-2a6b-44f8-8ed7-a6b8b70ddea1",
   "metadata": {},
   "source": [
    "Working out the horizontal and vertical terms, one obtains:"
   ]
  },
  {
   "cell_type": "code",
   "execution_count": 104,
   "id": "12e35546-5190-4317-b2af-5d2b61f45106",
   "metadata": {},
   "outputs": [],
   "source": [
    "hx = TensorMap(zeros, T, physical_space^2 ← physical_space^2)\n",
    "block(hx, FermionParity(0)) .= [0 -Δ; -Δ 0]\n",
    "block(hx, FermionParity(1)) .= [0 -t; -t 0]\n",
    "hx;"
   ]
  },
  {
   "cell_type": "code",
   "execution_count": 105,
   "id": "ff2672d0-b2d2-47c4-8c9c-3cb2b5504c0c",
   "metadata": {},
   "outputs": [],
   "source": [
    "hy = TensorMap(zeros, T, physical_space^2 ← physical_space^2)\n",
    "block(hy, FermionParity(0)) .= [0 Δ*im; -Δ*im 0]\n",
    "block(hy, FermionParity(1)) .= [0 -t; -t 0]\n",
    "hy;"
   ]
  },
  {
   "cell_type": "markdown",
   "id": "6477a2e3-f7ef-46d2-8b62-4667e634c29a",
   "metadata": {},
   "source": [
    "All of these contributions can then be combined in a `LocalOperator` by first defining the `lattice` with again `physical_space` at each site and thus:"
   ]
  },
  {
   "cell_type": "code",
   "execution_count": 106,
   "id": "cd7b4848-779f-4e70-968c-6247ebc3f118",
   "metadata": {},
   "outputs": [
    {
     "data": {
      "text/plain": [
       "1×1 Matrix{GradedSpace{FermionParity, Tuple{Int64, Int64}}}:\n",
       " Vect[FermionParity](0=>1, 1=>1)"
      ]
     },
     "execution_count": 106,
     "metadata": {},
     "output_type": "execute_result"
    }
   ],
   "source": [
    "lattice = fill(physical_space, 1, 1)"
   ]
  },
  {
   "cell_type": "markdown",
   "id": "1f64f0c0-0e66-45c5-b205-09b99c21492e",
   "metadata": {},
   "source": [
    "For the `terms` we have:"
   ]
  },
  {
   "cell_type": "code",
   "execution_count": 107,
   "id": "b38ca679-ae4e-4ece-a905-dbb50380dae1",
   "metadata": {},
   "outputs": [],
   "source": [
    "term0 = (CartesianIndex(1, 1),) => h0\n",
    "termx = (CartesianIndex(1, 1), CartesianIndex(1, 2)) => hx\n",
    "termy = (CartesianIndex(1, 1), CartesianIndex(2, 1)) => hy;"
   ]
  },
  {
   "cell_type": "markdown",
   "id": "d8877257-299b-429e-89d7-1d05c0bd79dd",
   "metadata": {},
   "source": [
    "so that"
   ]
  },
  {
   "cell_type": "code",
   "execution_count": 108,
   "id": "8b9de07a-9fe8-4e6a-8845-08db103eae6f",
   "metadata": {},
   "outputs": [],
   "source": [
    "H = LocalOperator(lattice, term0, termx, termy);"
   ]
  },
  {
   "cell_type": "markdown",
   "id": "8e62007b-f9cb-41b0-91d0-6e1aaaf970c2",
   "metadata": {},
   "source": [
    "The p-wave superconductor is also directly implemented in `models.jl` and we can check:"
   ]
  },
  {
   "cell_type": "code",
   "execution_count": 109,
   "id": "31fb8c2d-b52a-4361-94b0-fcf6cffa8e61",
   "metadata": {},
   "outputs": [
    {
     "data": {
      "text/plain": [
       "LocalOperator{Tuple{}, GradedSpace{FermionParity, Tuple{Int64, Int64}}}(GradedSpace{FermionParity, Tuple{Int64, Int64}}[Vect[FermionParity](0=>1, 1=>1);;], ())"
      ]
     },
     "execution_count": 109,
     "metadata": {},
     "output_type": "execute_result"
    }
   ],
   "source": [
    "H - square_lattice_pwave(t=1, μ=2, Δ=1)"
   ]
  },
  {
   "cell_type": "markdown",
   "id": "45888e52-8c2b-443a-9673-a77382626bf4",
   "metadata": {},
   "source": [
    "### 2.3 t-J model for nickelates (Gleb)\n",
    "\n",
    "More complexity can be added. For instance, one can opt for a larger unit cell with certain different physical spaces to target a specific filling fraction. In specifying the Hamiltonian, one then has to add all `terms` in the same way as before but now for the larger unit cell. Example of code Gleb uses within the nickelates project where all of the tensors incorporate $f\\mathbb{Z}_2$ symmetry as well as $U(1)$ and $SU(2)$:\n",
    "\n",
    "\n",
    "```\n",
    "V_phys_A = Vect[FermionParity ⊠ U1Irrep ⊠ SU2Irrep]((1,-1,1/2) => D_phys, (0,0,0) => D_phys);\n",
    "V_phys_B = Vect[FermionParity ⊠ U1Irrep ⊠ SU2Irrep]((1,1,1/2) => D_phys, (0,0,0) => D_phys);\n",
    "\n",
    "lattice = [V_phys_A V_phys_B; V_phys_B V_phys_A];\n",
    "\n",
    "H = LocalOperator(lattice,\n",
    "(CartesianIndex(1,1), CartesianIndex(1,2)) => two_site_AB,\n",
    "(CartesianIndex(1,1), CartesianIndex(2,2)) => two_site_AA,\n",
    "(CartesianIndex(2,2), CartesianIndex(3,3)) => two_site_AA,\n",
    "(CartesianIndex(2,1), CartesianIndex(1,2)) => two_site_BB,\n",
    "(CartesianIndex(1,2), CartesianIndex(0,3)) => two_site_BB,\n",
    "(CartesianIndex(2,1), CartesianIndex(3,2)) => two_site_BB,\n",
    "(CartesianIndex(2,2), CartesianIndex(3,1)) => two_site_AA,\n",
    "(CartesianIndex(2,2), CartesianIndex(2,3)) => two_site_AB,\n",
    "(CartesianIndex(2,2), CartesianIndex(1,3)) => two_site_AA,\n",
    "(CartesianIndex(1,2), CartesianIndex(2,3)) => two_site_BB\n",
    ");\n",
    "```"
   ]
  },
  {
   "cell_type": "markdown",
   "id": "8c252f31-59a7-4128-a7cd-f9e1629f3c4b",
   "metadata": {},
   "source": [
    "## 3. Algorithms\n",
    "\n",
    "For PEPS optimization we require: \n",
    "\n",
    "- a `boundary_alg` to approximate the evaluation of expectation values and taking into account the infinite nature of the PEPS (typically we use CTMRG)\n",
    "- a `gradient_alg` determining how exactly the energy gradient is calculated by applying AD to the `boundary_alg`\n",
    "- an `opt_alg` determining how these are combined to decrease the energy towards its variational optimum\n",
    "\n",
    "Maybe we can talk about:\n",
    "\n",
    "- CTMRG for fermions\n",
    "- fixed-point calculation of gradient and related issues\n",
    "- OptimKit issues\n",
    "- VUMPS as an alternative `boundary_alg`"
   ]
  },
  {
   "cell_type": "markdown",
   "id": "9e68d9d0-bbe8-410b-9d4f-958d10fe6fce",
   "metadata": {},
   "source": [
    "## 4. Initial guesses and Environments\n",
    "\n",
    "### 4.1. p-wave superconductor (again)\n",
    "\n",
    "We already constructed the `LocalOperator` for the p-wave superconductor model and already know what the physical space looks like."
   ]
  },
  {
   "cell_type": "code",
   "execution_count": 110,
   "id": "e506bbac-e7e2-4d27-889e-193fdf421dfe",
   "metadata": {},
   "outputs": [],
   "source": [
    "physical_space = Vect[FermionParity](0 => 1, 1 => 1)\n",
    "H = square_lattice_pwave(t=1, μ=2, Δ=1);"
   ]
  },
  {
   "cell_type": "markdown",
   "id": "18bc37c8-1802-4ab4-8b81-b0236c169ed2",
   "metadata": {},
   "source": [
    "For the initial guess of the PEPS state we use similar virtual fermionic spaces with both even and odd sectors and with half the PEPS bond dimension $D$ as their respective size."
   ]
  },
  {
   "cell_type": "code",
   "execution_count": 111,
   "id": "4e40c27c-cdf2-41f4-8760-f44a1a157f96",
   "metadata": {},
   "outputs": [],
   "source": [
    "D = 2\n",
    "virtual_space = Vect[FermionParity](0 => D/2, 1 => D/2);"
   ]
  },
  {
   "cell_type": "markdown",
   "id": "314122f2-7fb9-41d1-9262-4a33d6b2d72a",
   "metadata": {},
   "source": [
    "The initial guess for the PEPS state can then easily be constructed by"
   ]
  },
  {
   "cell_type": "code",
   "execution_count": 112,
   "id": "f5ab2b91-9433-4d23-83d6-3d9e182372d5",
   "metadata": {},
   "outputs": [],
   "source": [
    "psi_init = InfinitePEPS(physical_space, virtual_space);"
   ]
  },
  {
   "cell_type": "markdown",
   "id": "d97d95ed-896c-4653-96e5-784a0d0b8814",
   "metadata": {},
   "source": [
    "Similarly, we define the environment space for the CTMRG algorithm in the most simple way by allowing both sectors and making them equally large:"
   ]
  },
  {
   "cell_type": "code",
   "execution_count": 113,
   "id": "a7c70e26-fde7-472f-921d-81630aee8f76",
   "metadata": {},
   "outputs": [],
   "source": [
    "χ = 16\n",
    "env_space = Vect[FermionParity](0 => χ/2, 1 => χ/2);"
   ]
  },
  {
   "cell_type": "markdown",
   "id": "eec435af-e6b7-43d0-a6a0-8809a265ddf4",
   "metadata": {},
   "source": [
    "The environments can then be initialized via"
   ]
  },
  {
   "cell_type": "code",
   "execution_count": 114,
   "id": "ea7f735f-eccc-4943-8701-1c16cef83a31",
   "metadata": {},
   "outputs": [],
   "source": [
    "env0 = CTMRGEnv(psi_init, env_space);"
   ]
  },
  {
   "cell_type": "markdown",
   "id": "253f49c7-40c7-48a5-9b3c-2d47e682e8b8",
   "metadata": {},
   "source": [
    "Running CTMRG for `psi_init`, one obtains"
   ]
  },
  {
   "cell_type": "code",
   "execution_count": 115,
   "id": "82b1192b-0024-4c13-b25d-de995d972a91",
   "metadata": {},
   "outputs": [
    {
     "name": "stderr",
     "output_type": "stream",
     "text": [
      "\u001b[36m\u001b[1m[ \u001b[22m\u001b[39m\u001b[36m\u001b[1mInfo: \u001b[22m\u001b[39mCTMRG init:\tobj = -4.859764831139e-01 -4.885414980757e-01im\terr = 1.0000e+00\n",
      "\u001b[36m\u001b[1m[ \u001b[22m\u001b[39m\u001b[36m\u001b[1mInfo: \u001b[22m\u001b[39mCTMRG conv 24:\tobj = +2.576094821044e+00 -1.624377833335e-11im\terr = 6.2854458796e-09\ttime = 0.60 sec\n"
     ]
    }
   ],
   "source": [
    "ctm_alg = CTMRG(; tol=1e-8, maxiter=200, verbosity=2, ctmrgscheme=:sequential)\n",
    "env_init = leading_boundary(env0, psi_init, ctm_alg);"
   ]
  },
  {
   "cell_type": "markdown",
   "id": "eb8856cd-0473-49c3-a995-2994a30bd6ec",
   "metadata": {},
   "source": [
    "so that the PEPS optimization can be run via"
   ]
  },
  {
   "cell_type": "code",
   "execution_count": 116,
   "id": "7528960d-390b-4cc0-9a92-66d93daefac3",
   "metadata": {},
   "outputs": [
    {
     "name": "stderr",
     "output_type": "stream",
     "text": [
      "\u001b[36m\u001b[1m[ \u001b[22m\u001b[39m\u001b[36m\u001b[1mInfo: \u001b[22m\u001b[39mCTMRG init:\tobj = +2.576094821044e+00 -1.624377833335e-11im\terr = 1.0000e+00\n",
      "\u001b[36m\u001b[1m[ \u001b[22m\u001b[39m\u001b[36m\u001b[1mInfo: \u001b[22m\u001b[39mCTMRG conv 1:\tobj = +2.576094821017e+00\terr = 2.6736402378e-09\ttime = 0.01 sec\n",
      "\u001b[36m\u001b[1m[ \u001b[22m\u001b[39m\u001b[36m\u001b[1mInfo: \u001b[22m\u001b[39mLBFGS: initializing with f = -1.237653160683, ‖∇f‖ = 7.7779e-01\n",
      "\u001b[36m\u001b[1m[ \u001b[22m\u001b[39m\u001b[36m\u001b[1mInfo: \u001b[22m\u001b[39mCTMRG init:\tobj = +3.207665202537e+00 -4.184797091615e-12im\terr = 1.0000e+00\n",
      "\u001b[36m\u001b[1m[ \u001b[22m\u001b[39m\u001b[36m\u001b[1mInfo: \u001b[22m\u001b[39mCTMRG conv 76:\tobj = +2.861133300342e+00\terr = 8.7081710124e-09\ttime = 0.85 sec\n",
      "\u001b[36m\u001b[1m[ \u001b[22m\u001b[39m\u001b[36m\u001b[1mInfo: \u001b[22m\u001b[39mLBFGS: iter    1: f = -1.845240766075, ‖∇f‖ = 6.2280e-01, α = 1.00e+00, m = 0, nfg = 1\n",
      "\u001b[36m\u001b[1m[ \u001b[22m\u001b[39m\u001b[36m\u001b[1mInfo: \u001b[22m\u001b[39mCTMRG init:\tobj = +5.855782623297e+00\terr = 1.0000e+00\n",
      "\u001b[33m\u001b[1m┌ \u001b[22m\u001b[39m\u001b[33m\u001b[1mWarning: \u001b[22m\u001b[39mCTMRG cancel 200:\tobj = +2.776971315118e+00\terr = 1.4021494878e-07\ttime = 2.18 sec\n",
      "\u001b[33m\u001b[1m└ \u001b[22m\u001b[39m\u001b[90m@ PEPSKit ~/Documents/project_gluekit/dev/PEPSKit/src/algorithms/ctmrg/ctmrg.jl:167\u001b[39m\n",
      "\u001b[36m\u001b[1m[ \u001b[22m\u001b[39m\u001b[36m\u001b[1mInfo: \u001b[22m\u001b[39mLBFGS: iter    2: f = -2.064870424117, ‖∇f‖ = 3.3021e-01, α = 1.00e+00, m = 1, nfg = 1\n",
      "\u001b[36m\u001b[1m[ \u001b[22m\u001b[39m\u001b[36m\u001b[1mInfo: \u001b[22m\u001b[39mCTMRG init:\tobj = +3.019365748282e+00\terr = 1.0000e+00\n",
      "\u001b[33m\u001b[1m┌ \u001b[22m\u001b[39m\u001b[33m\u001b[1mWarning: \u001b[22m\u001b[39mCTMRG cancel 200:\tobj = +3.477131542267e+00\terr = 7.5559673141e-06\ttime = 2.14 sec\n",
      "\u001b[33m\u001b[1m└ \u001b[22m\u001b[39m\u001b[90m@ PEPSKit ~/Documents/project_gluekit/dev/PEPSKit/src/algorithms/ctmrg/ctmrg.jl:167\u001b[39m\n",
      "\u001b[36m\u001b[1m[ \u001b[22m\u001b[39m\u001b[36m\u001b[1mInfo: \u001b[22m\u001b[39mLBFGS: iter    3: f = -2.154922230833, ‖∇f‖ = 2.0386e-01, α = 1.00e+00, m = 2, nfg = 1\n",
      "\u001b[36m\u001b[1m[ \u001b[22m\u001b[39m\u001b[36m\u001b[1mInfo: \u001b[22m\u001b[39mCTMRG init:\tobj = +3.378739554268e+00\terr = 1.0000e+00\n",
      "\u001b[33m\u001b[1m┌ \u001b[22m\u001b[39m\u001b[33m\u001b[1mWarning: \u001b[22m\u001b[39mCTMRG cancel 200:\tobj = +3.727862198258e+00\terr = 1.8428496804e-07\ttime = 2.18 sec\n",
      "\u001b[33m\u001b[1m└ \u001b[22m\u001b[39m\u001b[90m@ PEPSKit ~/Documents/project_gluekit/dev/PEPSKit/src/algorithms/ctmrg/ctmrg.jl:167\u001b[39m\n",
      "\u001b[36m\u001b[1m[ \u001b[22m\u001b[39m\u001b[36m\u001b[1mInfo: \u001b[22m\u001b[39mLBFGS: iter    4: f = -2.198437821169, ‖∇f‖ = 1.4812e-01, α = 1.00e+00, m = 3, nfg = 1\n",
      "\u001b[36m\u001b[1m[ \u001b[22m\u001b[39m\u001b[36m\u001b[1mInfo: \u001b[22m\u001b[39mCTMRG init:\tobj = +3.208395362832e+00\terr = 1.0000e+00\n",
      "\u001b[36m\u001b[1m[ \u001b[22m\u001b[39m\u001b[36m\u001b[1mInfo: \u001b[22m\u001b[39mCTMRG conv 137:\tobj = +5.913683616192e+00\terr = 9.4984320520e-09\ttime = 1.50 sec\n",
      "\u001b[36m\u001b[1m[ \u001b[22m\u001b[39m\u001b[36m\u001b[1mInfo: \u001b[22m\u001b[39mCTMRG init:\tobj = +3.521181980935e+00\terr = 1.0000e+00\n",
      "\u001b[36m\u001b[1m[ \u001b[22m\u001b[39m\u001b[36m\u001b[1mInfo: \u001b[22m\u001b[39mCTMRG conv 182:\tobj = +4.509249584394e+00\terr = 9.7124927565e-09\ttime = 1.96 sec\n",
      "\u001b[36m\u001b[1m[ \u001b[22m\u001b[39m\u001b[36m\u001b[1mInfo: \u001b[22m\u001b[39mLBFGS: iter    5: f = -2.237598679797, ‖∇f‖ = 8.1622e-02, α = 3.39e-01, m = 4, nfg = 2\n",
      "\u001b[36m\u001b[1m[ \u001b[22m\u001b[39m\u001b[36m\u001b[1mInfo: \u001b[22m\u001b[39mCTMRG init:\tobj = +4.275218338665e+00\terr = 1.0000e+00\n",
      "\u001b[36m\u001b[1m[ \u001b[22m\u001b[39m\u001b[36m\u001b[1mInfo: \u001b[22m\u001b[39mCTMRG conv 152:\tobj = +4.749570280292e+00\terr = 9.9403898155e-09\ttime = 1.64 sec\n",
      "\u001b[36m\u001b[1m[ \u001b[22m\u001b[39m\u001b[36m\u001b[1mInfo: \u001b[22m\u001b[39mLBFGS: iter    6: f = -2.259080980424, ‖∇f‖ = 1.2963e-01, α = 1.00e+00, m = 4, nfg = 1\n",
      "\u001b[36m\u001b[1m[ \u001b[22m\u001b[39m\u001b[36m\u001b[1mInfo: \u001b[22m\u001b[39mCTMRG init:\tobj = +4.538388767769e+00\terr = 1.0000e+00\n",
      "\u001b[33m\u001b[1m┌ \u001b[22m\u001b[39m\u001b[33m\u001b[1mWarning: \u001b[22m\u001b[39mCTMRG cancel 200:\tobj = +5.296897263913e+00\terr = 9.8021388393e-07\ttime = 2.13 sec\n",
      "\u001b[33m\u001b[1m└ \u001b[22m\u001b[39m\u001b[90m@ PEPSKit ~/Documents/project_gluekit/dev/PEPSKit/src/algorithms/ctmrg/ctmrg.jl:167\u001b[39m\n",
      "\u001b[36m\u001b[1m[ \u001b[22m\u001b[39m\u001b[36m\u001b[1mInfo: \u001b[22m\u001b[39mLBFGS: iter    7: f = -2.291675660963, ‖∇f‖ = 1.9089e-01, α = 1.00e+00, m = 4, nfg = 1\n",
      "\u001b[36m\u001b[1m[ \u001b[22m\u001b[39m\u001b[36m\u001b[1mInfo: \u001b[22m\u001b[39mCTMRG init:\tobj = +5.327095730586e+00\terr = 1.0000e+00\n",
      "\u001b[33m\u001b[1m┌ \u001b[22m\u001b[39m\u001b[33m\u001b[1mWarning: \u001b[22m\u001b[39mCTMRG cancel 200:\tobj = +6.783886932857e+00\terr = 7.4725787564e-06\ttime = 2.14 sec\n",
      "\u001b[33m\u001b[1m└ \u001b[22m\u001b[39m\u001b[90m@ PEPSKit ~/Documents/project_gluekit/dev/PEPSKit/src/algorithms/ctmrg/ctmrg.jl:167\u001b[39m\n",
      "\u001b[36m\u001b[1m[ \u001b[22m\u001b[39m\u001b[36m\u001b[1mInfo: \u001b[22m\u001b[39mLBFGS: iter    8: f = -2.330911863657, ‖∇f‖ = 3.2630e-01, α = 1.00e+00, m = 4, nfg = 1\n",
      "\u001b[36m\u001b[1m[ \u001b[22m\u001b[39m\u001b[36m\u001b[1mInfo: \u001b[22m\u001b[39mCTMRG init:\tobj = +8.333433467789e+00\terr = 1.0000e+00\n",
      "\u001b[33m\u001b[1m┌ \u001b[22m\u001b[39m\u001b[33m\u001b[1mWarning: \u001b[22m\u001b[39mCTMRG cancel 200:\tobj = +6.999462416490e+00\terr = 1.6192039020e-05\ttime = 2.14 sec\n",
      "\u001b[33m\u001b[1m└ \u001b[22m\u001b[39m\u001b[90m@ PEPSKit ~/Documents/project_gluekit/dev/PEPSKit/src/algorithms/ctmrg/ctmrg.jl:167\u001b[39m\n",
      "\u001b[36m\u001b[1m[ \u001b[22m\u001b[39m\u001b[36m\u001b[1mInfo: \u001b[22m\u001b[39mLBFGS: iter    9: f = -2.403590587457, ‖∇f‖ = 3.2106e-01, α = 1.00e+00, m = 4, nfg = 1\n",
      "\u001b[36m\u001b[1m[ \u001b[22m\u001b[39m\u001b[36m\u001b[1mInfo: \u001b[22m\u001b[39mCTMRG init:\tobj = +9.149352688417e+00\terr = 1.0000e+00\n",
      "\u001b[33m\u001b[1m┌ \u001b[22m\u001b[39m\u001b[33m\u001b[1mWarning: \u001b[22m\u001b[39mCTMRG cancel 200:\tobj = +7.436662737830e+00\terr = 5.9321241850e-04\ttime = 2.33 sec\n",
      "\u001b[33m\u001b[1m└ \u001b[22m\u001b[39m\u001b[90m@ PEPSKit ~/Documents/project_gluekit/dev/PEPSKit/src/algorithms/ctmrg/ctmrg.jl:167\u001b[39m\n",
      "\u001b[33m\u001b[1m┌ \u001b[22m\u001b[39m\u001b[33m\u001b[1mWarning: \u001b[22m\u001b[39mLBFGS: not converged to requested tol: f = -2.495782877412, ‖∇f‖ = 1.6342e-01\n",
      "\u001b[33m\u001b[1m└ \u001b[22m\u001b[39m\u001b[90m@ OptimKit ~/.julia/packages/OptimKit/xpmbV/src/lbfgs.jl:141\u001b[39m\n"
     ]
    },
    {
     "data": {
      "text/plain": [
       "-2.495782877411683"
      ]
     },
     "execution_count": 116,
     "metadata": {},
     "output_type": "execute_result"
    }
   ],
   "source": [
    "opt_alg = PEPSOptimize(;\n",
    "    boundary_alg=ctm_alg,\n",
    "    optimizer=LBFGS(4; maxiter=10, gradtol=1e-3, verbosity=2),\n",
    "    gradient_alg=LinSolver(; solver=GMRES(; tol=1e-3, maxiter=2), iterscheme=:diffgauge),\n",
    "    reuse_env=true,\n",
    ")\n",
    "result = fixedpoint(psi_init, H, opt_alg, env_init)\n",
    "result.E"
   ]
  },
  {
   "cell_type": "markdown",
   "id": "c4df2cf6-1ec9-420c-8563-b0f8b3028d5b",
   "metadata": {},
   "source": [
    "approximating the exact energy density $E_{ex}=-2.6241$."
   ]
  },
  {
   "cell_type": "markdown",
   "id": "96dbeccd-7d88-4ac7-94a5-78c0a37228a1",
   "metadata": {},
   "source": [
    "Sometimes it helps to allow for a larger unit cell even though the Hamiltonian does not necessarily seem to require this (e.g. to allow for some symmetry breaking or to yield a more stable convergence). We therefore randomly initialize the PEPS again but now with a 2x2 unit cell"
   ]
  },
  {
   "cell_type": "code",
   "execution_count": 118,
   "id": "222343cf-4e31-47ae-84c0-3b8cded52166",
   "metadata": {},
   "outputs": [
    {
     "data": {
      "text/plain": [
       "-2.495782877411683 - 6.808044186643143e-17im"
      ]
     },
     "execution_count": 118,
     "metadata": {},
     "output_type": "execute_result"
    }
   ],
   "source": [
    "expectation_value(result.peps, H, result.env)"
   ]
  },
  {
   "cell_type": "code",
   "execution_count": 119,
   "id": "e35d3970-6fee-4cb8-9f2c-e08d7f6e461f",
   "metadata": {},
   "outputs": [
    {
     "data": {
      "text/plain": [
       "5.970056574194527"
      ]
     },
     "execution_count": 119,
     "metadata": {},
     "output_type": "execute_result"
    }
   ],
   "source": [
    "unitcell = (2, 2)\n",
    "psi_init = InfinitePEPS(physical_space, virtual_space; unitcell);\n",
    "norm(psi_init[1,1]-psi_init[2,2])"
   ]
  },
  {
   "cell_type": "markdown",
   "id": "4f6d5327-3bb2-4ebd-af00-01028da71255",
   "metadata": {},
   "source": [
    "The `LocalOperator` then requires the same unit cell but consists of identical terms on each site. We can simply construct this repeated operator via"
   ]
  },
  {
   "cell_type": "code",
   "execution_count": 120,
   "id": "b8120fc1-9ae0-4d22-a748-ab4e95e3a92c",
   "metadata": {},
   "outputs": [],
   "source": [
    "H = square_lattice_pwave(t=1, μ=2, Δ=1; unitcell);"
   ]
  },
  {
   "cell_type": "markdown",
   "id": "b6105715-6945-4837-aa95-1ad3966c3f77",
   "metadata": {},
   "source": [
    "Again using the same environment space for all CTMRG tensors, we initialize the environments as"
   ]
  },
  {
   "cell_type": "code",
   "execution_count": 121,
   "id": "e3c12141-de65-476c-9db3-af2a27a7d672",
   "metadata": {},
   "outputs": [],
   "source": [
    "env0 = CTMRGEnv(psi_init, env_space);"
   ]
  },
  {
   "cell_type": "markdown",
   "id": "faea5f50-5e1a-4d2f-8ea6-d12b51216cbe",
   "metadata": {},
   "source": [
    "Running CTMRG for the initial guess then yields"
   ]
  },
  {
   "cell_type": "code",
   "execution_count": 122,
   "id": "c8772cd3-142b-472a-bcd1-5368d8de13ba",
   "metadata": {},
   "outputs": [
    {
     "name": "stderr",
     "output_type": "stream",
     "text": [
      "\u001b[36m\u001b[1m[ \u001b[22m\u001b[39m\u001b[36m\u001b[1mInfo: \u001b[22m\u001b[39mCTMRG init:\tobj = +1.497060085161e+03 -3.660993347859e+03im\terr = 1.0000e+00\n",
      "\u001b[36m\u001b[1m[ \u001b[22m\u001b[39m\u001b[36m\u001b[1mInfo: \u001b[22m\u001b[39mCTMRG conv 26:\tobj = +1.064720439459e+02 +2.208523231815e-10im\terr = 4.4347739049e-09\ttime = 1.15 sec\n"
     ]
    }
   ],
   "source": [
    "ctm_alg = CTMRG(; tol=1e-8, maxiter=200, verbosity=2, ctmrgscheme=:sequential)\n",
    "env_init = leading_boundary(env0, psi_init, ctm_alg);"
   ]
  },
  {
   "cell_type": "markdown",
   "id": "bc1886ec-f635-42f2-8856-4e6cd2b6b664",
   "metadata": {},
   "source": [
    "while PEPS optimization results in"
   ]
  },
  {
   "cell_type": "code",
   "execution_count": 123,
   "id": "16967fbe-d8b2-4d07-b302-fb9aeb0f65cb",
   "metadata": {},
   "outputs": [
    {
     "name": "stderr",
     "output_type": "stream",
     "text": [
      "\u001b[36m\u001b[1m[ \u001b[22m\u001b[39m\u001b[36m\u001b[1mInfo: \u001b[22m\u001b[39mCTMRG init:\tobj = +1.064720439459e+02 +2.208523231815e-10im\terr = 1.0000e+00\n",
      "\u001b[36m\u001b[1m[ \u001b[22m\u001b[39m\u001b[36m\u001b[1mInfo: \u001b[22m\u001b[39mCTMRG conv 1:\tobj = +1.064720439419e+02 -1.636888571076e-10im\terr = 1.1982126663e-09\ttime = 0.08 sec\n",
      "\u001b[36m\u001b[1m[ \u001b[22m\u001b[39m\u001b[36m\u001b[1mInfo: \u001b[22m\u001b[39mLBFGS: initializing with f = -4.344228194112, ‖∇f‖ = 2.3273e+00\n",
      "\u001b[36m\u001b[1m[ \u001b[22m\u001b[39m\u001b[36m\u001b[1mInfo: \u001b[22m\u001b[39mCTMRG init:\tobj = +1.527660060610e+02 -5.113623502939e-10im\terr = 1.0000e+00\n",
      "\u001b[36m\u001b[1m[ \u001b[22m\u001b[39m\u001b[36m\u001b[1mInfo: \u001b[22m\u001b[39mCTMRG conv 17:\tobj = +1.718535869293e+02\terr = 3.2719111316e-09\ttime = 0.72 sec\n",
      "\u001b[36m\u001b[1m[ \u001b[22m\u001b[39m\u001b[36m\u001b[1mInfo: \u001b[22m\u001b[39mLBFGS: iter    1: f = -6.373388639462, ‖∇f‖ = 1.8881e+00, α = 1.00e+00, m = 0, nfg = 1\n",
      "\u001b[36m\u001b[1m[ \u001b[22m\u001b[39m\u001b[36m\u001b[1mInfo: \u001b[22m\u001b[39mCTMRG init:\tobj = +1.752490373850e+03\terr = 1.0000e+00\n",
      "\u001b[36m\u001b[1m[ \u001b[22m\u001b[39m\u001b[36m\u001b[1mInfo: \u001b[22m\u001b[39mCTMRG conv 16:\tobj = +2.300806548110e+03\terr = 5.3141434619e-09\ttime = 0.68 sec\n",
      "\u001b[36m\u001b[1m[ \u001b[22m\u001b[39m\u001b[36m\u001b[1mInfo: \u001b[22m\u001b[39mLBFGS: iter    2: f = -8.752468173795, ‖∇f‖ = 8.6981e-01, α = 1.00e+00, m = 1, nfg = 1\n",
      "\u001b[36m\u001b[1m[ \u001b[22m\u001b[39m\u001b[36m\u001b[1mInfo: \u001b[22m\u001b[39mCTMRG init:\tobj = +5.365743935627e+03\terr = 1.0000e+00\n",
      "\u001b[36m\u001b[1m[ \u001b[22m\u001b[39m\u001b[36m\u001b[1mInfo: \u001b[22m\u001b[39mCTMRG conv 15:\tobj = +5.530650722916e+03\terr = 2.2771038869e-09\ttime = 0.62 sec\n",
      "\u001b[36m\u001b[1m[ \u001b[22m\u001b[39m\u001b[36m\u001b[1mInfo: \u001b[22m\u001b[39mLBFGS: iter    3: f = -9.260603748563, ‖∇f‖ = 4.9148e-01, α = 1.00e+00, m = 2, nfg = 1\n",
      "\u001b[36m\u001b[1m[ \u001b[22m\u001b[39m\u001b[36m\u001b[1mInfo: \u001b[22m\u001b[39mCTMRG init:\tobj = +5.395594738155e+03\terr = 1.0000e+00\n",
      "\u001b[36m\u001b[1m[ \u001b[22m\u001b[39m\u001b[36m\u001b[1mInfo: \u001b[22m\u001b[39mCTMRG conv 14:\tobj = +5.132118377287e+03\terr = 5.8370759780e-09\ttime = 0.59 sec\n",
      "\u001b[36m\u001b[1m[ \u001b[22m\u001b[39m\u001b[36m\u001b[1mInfo: \u001b[22m\u001b[39mLBFGS: iter    4: f = -9.497632454729, ‖∇f‖ = 3.7693e-01, α = 1.00e+00, m = 3, nfg = 1\n",
      "\u001b[36m\u001b[1m[ \u001b[22m\u001b[39m\u001b[36m\u001b[1mInfo: \u001b[22m\u001b[39mCTMRG init:\tobj = +5.477384587659e+03\terr = 1.0000e+00\n",
      "\u001b[36m\u001b[1m[ \u001b[22m\u001b[39m\u001b[36m\u001b[1mInfo: \u001b[22m\u001b[39mCTMRG conv 19:\tobj = +4.859975567110e+03\terr = 7.9378951145e-09\ttime = 0.79 sec\n",
      "\u001b[36m\u001b[1m[ \u001b[22m\u001b[39m\u001b[36m\u001b[1mInfo: \u001b[22m\u001b[39mLBFGS: iter    5: f = -9.739264009524, ‖∇f‖ = 6.3358e-01, α = 1.00e+00, m = 4, nfg = 1\n",
      "\u001b[36m\u001b[1m[ \u001b[22m\u001b[39m\u001b[36m\u001b[1mInfo: \u001b[22m\u001b[39mCTMRG init:\tobj = +5.383552250229e+03\terr = 1.0000e+00\n",
      "\u001b[36m\u001b[1m[ \u001b[22m\u001b[39m\u001b[36m\u001b[1mInfo: \u001b[22m\u001b[39mCTMRG conv 22:\tobj = +5.275880250418e+03\terr = 2.5161067039e-09\ttime = 0.92 sec\n",
      "\u001b[36m\u001b[1m[ \u001b[22m\u001b[39m\u001b[36m\u001b[1mInfo: \u001b[22m\u001b[39mLBFGS: iter    6: f = -9.982787211372, ‖∇f‖ = 3.2111e-01, α = 1.00e+00, m = 4, nfg = 1\n",
      "\u001b[36m\u001b[1m[ \u001b[22m\u001b[39m\u001b[36m\u001b[1mInfo: \u001b[22m\u001b[39mCTMRG init:\tobj = +7.106582521261e+03\terr = 1.0000e+00\n",
      "\u001b[36m\u001b[1m[ \u001b[22m\u001b[39m\u001b[36m\u001b[1mInfo: \u001b[22m\u001b[39mCTMRG conv 26:\tobj = +5.679979012284e+03\terr = 5.5590694243e-09\ttime = 1.09 sec\n",
      "\u001b[36m\u001b[1m[ \u001b[22m\u001b[39m\u001b[36m\u001b[1mInfo: \u001b[22m\u001b[39mLBFGS: iter    7: f = -10.186900059560, ‖∇f‖ = 1.7347e-01, α = 1.00e+00, m = 4, nfg = 1\n",
      "\u001b[36m\u001b[1m[ \u001b[22m\u001b[39m\u001b[36m\u001b[1mInfo: \u001b[22m\u001b[39mCTMRG init:\tobj = +8.396586612098e+03\terr = 1.0000e+00\n",
      "\u001b[36m\u001b[1m[ \u001b[22m\u001b[39m\u001b[36m\u001b[1mInfo: \u001b[22m\u001b[39mCTMRG conv 43:\tobj = +5.125535883051e+03\terr = 8.5751685174e-09\ttime = 1.80 sec\n",
      "\u001b[36m\u001b[1m[ \u001b[22m\u001b[39m\u001b[36m\u001b[1mInfo: \u001b[22m\u001b[39mLBFGS: iter    8: f = -10.329108245970, ‖∇f‖ = 1.2443e-01, α = 1.00e+00, m = 4, nfg = 1\n",
      "\u001b[36m\u001b[1m[ \u001b[22m\u001b[39m\u001b[36m\u001b[1mInfo: \u001b[22m\u001b[39mCTMRG init:\tobj = +6.878804205858e+03\terr = 1.0000e+00\n",
      "\u001b[36m\u001b[1m[ \u001b[22m\u001b[39m\u001b[36m\u001b[1mInfo: \u001b[22m\u001b[39mCTMRG conv 87:\tobj = +4.538060962030e+03\terr = 8.7035533639e-09\ttime = 3.62 sec\n",
      "\u001b[36m\u001b[1m[ \u001b[22m\u001b[39m\u001b[36m\u001b[1mInfo: \u001b[22m\u001b[39mLBFGS: iter    9: f = -10.378750666681, ‖∇f‖ = 1.3258e-01, α = 1.00e+00, m = 4, nfg = 1\n",
      "\u001b[36m\u001b[1m[ \u001b[22m\u001b[39m\u001b[36m\u001b[1mInfo: \u001b[22m\u001b[39mCTMRG init:\tobj = +5.229546566185e+03\terr = 1.0000e+00\n",
      "\u001b[36m\u001b[1m[ \u001b[22m\u001b[39m\u001b[36m\u001b[1mInfo: \u001b[22m\u001b[39mCTMRG conv 74:\tobj = +4.927345629648e+03\terr = 9.2003429876e-09\ttime = 3.29 sec\n",
      "\u001b[33m\u001b[1m┌ \u001b[22m\u001b[39m\u001b[33m\u001b[1mWarning: \u001b[22m\u001b[39mLBFGS: not converged to requested tol: f = -10.409819117630, ‖∇f‖ = 6.2668e-02\n",
      "\u001b[33m\u001b[1m└ \u001b[22m\u001b[39m\u001b[90m@ OptimKit ~/.julia/packages/OptimKit/xpmbV/src/lbfgs.jl:141\u001b[39m\n"
     ]
    },
    {
     "data": {
      "text/plain": [
       "-2.602454779407535"
      ]
     },
     "execution_count": 123,
     "metadata": {},
     "output_type": "execute_result"
    }
   ],
   "source": [
    "opt_alg = PEPSOptimize(;\n",
    "    boundary_alg=ctm_alg,\n",
    "    optimizer=LBFGS(4; maxiter=10, gradtol=1e-3, verbosity=2),\n",
    "    gradient_alg=LinSolver(; solver=GMRES(; tol=1e-3, maxiter=2), iterscheme=:diffgauge),\n",
    "    reuse_env=true,\n",
    ")\n",
    "result = fixedpoint(psi_init, H, opt_alg, env_init)\n",
    "result.E / prod(size(psi_init))"
   ]
  },
  {
   "cell_type": "markdown",
   "id": "ee5fbcd5-3c2b-4eea-8b1d-75c52a6504c9",
   "metadata": {},
   "source": [
    "### 4.2. More involved symmetries\n",
    "\n",
    "Consider a spinful fermionic hopping model with \n",
    "\n",
    "$$\n",
    "H = - t \\sum_{\\sigma,\\mathbf{n}} \\left( c_{\\sigma,\\mathbf{n}}^\\dagger c_{\\sigma,\\mathbf{n}_\\rightarrow}+ c_{\\sigma,\\mathbf{n}}^\\dagger c_{\\sigma,\\mathbf{n}_\\uparrow} +h.c.\\right)\n",
    "$$"
   ]
  },
  {
   "cell_type": "markdown",
   "id": "1471e5f9-b0de-4478-a34a-667989651201",
   "metadata": {},
   "source": [
    "and $\\sigma \\in \\{\\uparrow,\\downarrow\\}$, having $f\\mathbb{Z}_2$, $U(1)$ and $SU(2)$ symmetry. Allowing for double occupancy in this case, the physical space can be defined as"
   ]
  },
  {
   "cell_type": "code",
   "execution_count": 51,
   "id": "5b713b42-fe13-4232-a764-4b8870d19b1f",
   "metadata": {},
   "outputs": [
    {
     "data": {
      "text/plain": [
       "Vect[(FermionParity ⊠ Irrep[U₁] ⊠ Irrep[SU₂])]((0, 0, 0)=>1, (0, 2, 0)=>1, (1, 1, 1/2)=>1)"
      ]
     },
     "execution_count": 51,
     "metadata": {},
     "output_type": "execute_result"
    }
   ],
   "source": [
    "physical_space = Vect[FermionParity ⊠ U1Irrep ⊠ SU2Irrep]((0,0,0) => 1, (1,1,1/2) => 1, (0,2,0) => 1)"
   ]
  },
  {
   "cell_type": "markdown",
   "id": "e8905605-f01f-4c6a-b1df-63fec975b220",
   "metadata": {},
   "source": [
    "Note that the virtual PEPS legs will also have this symmetry. However, they can realize a larger degeneracy within these sectors but also have symmetry sectors with higher spin labels, e.g. $(1,3,3/2)$. As one has to restrict to a finite number of sectors with reasonable degeneracies to not make the bond dimension too large, it is a priori not clear which spin labels to consider and with what degeneracy."
   ]
  },
  {
   "cell_type": "markdown",
   "id": "de66e346-364d-44a1-a9a2-2094f7e77397",
   "metadata": {},
   "source": [
    "This problem also appears in the environment spaces. Utilizing CTMRG, one could perform the necessary truncations based on a certain Schmidt cut and select/add spaces based on this. However, the initial and final environment spaces of a CTMRG could differ then, invalidating the use of fixed point calculations for the energy gradient via AD."
   ]
  }
 ],
 "metadata": {
  "kernelspec": {
   "display_name": "Julia 1.9.3",
   "language": "julia",
   "name": "julia-1.9"
  },
  "language_info": {
   "file_extension": ".jl",
   "mimetype": "application/julia",
   "name": "julia",
   "version": "1.9.3"
  }
 },
 "nbformat": 4,
 "nbformat_minor": 5
}
